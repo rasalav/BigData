{
 "cells": [
  {
   "cell_type": "markdown",
   "metadata": {},
   "source": [
    "<img src=\"pyspark.jpeg\" width=\"300\" height=\"150\"> "
   ]
  },
  {
   "cell_type": "markdown",
   "metadata": {},
   "source": [
    "# PROGRAMA DE CIENCIAS DE LOS DATOS \n",
    "## **CURSO: BIG DATA**\n",
    "### **TAREA #1**\n",
    "\n",
    "Profesor: MSc. Felipe Meza\n",
    "\n",
    "\n",
    "Alumno: \n",
    "  \n",
    "  Randal Salazar Viales"
   ]
  },
  {
   "cell_type": "markdown",
   "metadata": {},
   "source": [
    "# Descripción de Segunda Parte de Tarea #1\n",
    "\n",
    "La segunda parte consiste en buscar un dataset de su preferencia (de tamaño similar al caso visto en clase) con datos que reflejen algún proceso real, es decir, datos con sentido. \n",
    "\n",
    "Debe ejecutar (5) acciones de procesado de las vistas en clase, de manera que extraiga conocimiento (INSIGHTS) de los datos para las (5) acciones, posteriormente debe ejecutar (3) acciones procesado de datos que NO se hayan estudiado en clase y explicar claramente cada uno de los 3 métodos (para qué sirven, cuando se usan etc).\n",
    "\n",
    "El entregable debe ser el url en github del NOTEBOOK"
   ]
  },
  {
   "cell_type": "markdown",
   "metadata": {},
   "source": [
    "# Introducción al uso de pyspark\n"
   ]
  },
  {
   "cell_type": "markdown",
   "metadata": {},
   "source": [
    "### Pre-requisitos"
   ]
  },
  {
   "cell_type": "markdown",
   "metadata": {},
   "source": [
    "- findspark\n",
    "- pyspark\n",
    "- spark"
   ]
  },
  {
   "cell_type": "markdown",
   "metadata": {},
   "source": [
    "Comenzamos con la importación de librerías y demás parámetros necesarios..."
   ]
  },
  {
   "cell_type": "code",
   "execution_count": 1,
   "metadata": {},
   "outputs": [],
   "source": [
    "from pyspark.sql import SparkSession\n",
    "\n",
    "spark=SparkSession.builder.appName('data_processing').getOrCreate()\n",
    "\n",
    "import pyspark.sql.functions as F\n",
    "from pyspark.sql.types import *"
   ]
  },
  {
   "cell_type": "code",
   "execution_count": 2,
   "metadata": {},
   "outputs": [],
   "source": [
    "import findspark\n",
    "\n",
    "# Ruta de Apache Spark para sistema Mac/OS\n",
    "#findspark.init('/opt/spark')\n",
    "\n",
    "# Ruta de Apache Spark para sistema Windows/OS\n",
    "findspark.init('C:\\Spark')\n",
    "\n",
    "from datetime import datetime\n",
    "from pyspark.sql import SparkSession\n",
    "from pyspark.sql.functions import col, date_format, udf \n",
    "from pyspark.sql.types import DateType"
   ]
  },
  {
   "cell_type": "markdown",
   "metadata": {},
   "source": [
    "Para poder cargar (invocar) a un archivo con datos y generar un DataFrame:"
   ]
  },
  {
   "cell_type": "code",
   "execution_count": 3,
   "metadata": {},
   "outputs": [],
   "source": [
    "# Importación de librería PySpark\n",
    "import pyspark\n",
    "from pyspark import SparkFiles\n",
    "\n",
    "######## CARGADO DE ARCHIVO DESDE INTERNET (GITHUB) ##########\n",
    "#Ruta en Internet del archivo a cargar:\n",
    "url = \"https://raw.githubusercontent.com/rasalav/BigData_Tarea1/master/StudentsPerformance.csv\"\n",
    "spark.sparkContext.addFile(url)\n",
    "\n",
    "# Cargado del archivo csv en un DataFrame\n",
    "df=spark.read.csv(SparkFiles.get(\"StudentsPerformance.csv\"), header=True, inferSchema=True)\n",
    "\n",
    "######## CARGADO DE ARCHIVO DESDE RUTA EN LA PC: JUPYTER NOTEBOOK ##########\n",
    "# Si se quiere cargar un archivo desde el dominio local de Jupyter Notebook\n",
    "#df=spark.read.csv(\"StudentsPerformance.csv\",header=True, inferSchema=True)"
   ]
  },
  {
   "cell_type": "markdown",
   "metadata": {},
   "source": [
    "Para poder invocar a un archivo con datos y generar un DataFrame:"
   ]
  },
  {
   "cell_type": "markdown",
   "metadata": {},
   "source": [
    "Este conjunto de datos consta de las notas aseguradas por estudiantes de USA en diversas materias. Fue creada con el objetivo de comprender la influencia del conocimiento de los padres, la preparación de exámenes, etc. en el desempeño de los estudiantes.\n",
    "\n",
    "Este dataset fue tomado de Kaggle:\n",
    "\n",
    "https://www.kaggle.com/spscientist/students-performance-in-exams"
   ]
  },
  {
   "cell_type": "markdown",
   "metadata": {},
   "source": [
    "Se analizan los datos:"
   ]
  },
  {
   "cell_type": "code",
   "execution_count": 4,
   "metadata": {},
   "outputs": [
    {
     "data": {
      "text/plain": [
       "1000"
      ]
     },
     "execution_count": 4,
     "metadata": {},
     "output_type": "execute_result"
    }
   ],
   "source": [
    "df.count()"
   ]
  },
  {
   "cell_type": "code",
   "execution_count": 5,
   "metadata": {},
   "outputs": [
    {
     "data": {
      "text/plain": [
       "8"
      ]
     },
     "execution_count": 5,
     "metadata": {},
     "output_type": "execute_result"
    }
   ],
   "source": [
    "len(df.columns)"
   ]
  },
  {
   "cell_type": "markdown",
   "metadata": {},
   "source": [
    "Se visualiza el esquema del DataFrame:"
   ]
  },
  {
   "cell_type": "code",
   "execution_count": 6,
   "metadata": {},
   "outputs": [
    {
     "name": "stdout",
     "output_type": "stream",
     "text": [
      "root\n",
      " |-- gender: string (nullable = true)\n",
      " |-- race/ethnicity: string (nullable = true)\n",
      " |-- parental level of education: string (nullable = true)\n",
      " |-- lunch: string (nullable = true)\n",
      " |-- test preparation course: string (nullable = true)\n",
      " |-- math score: integer (nullable = true)\n",
      " |-- reading score: integer (nullable = true)\n",
      " |-- writing score: integer (nullable = true)\n",
      "\n"
     ]
    }
   ],
   "source": [
    "df.printSchema()"
   ]
  },
  {
   "cell_type": "markdown",
   "metadata": {},
   "source": [
    "Se visualiza el DataFrame:"
   ]
  },
  {
   "cell_type": "code",
   "execution_count": 7,
   "metadata": {},
   "outputs": [
    {
     "name": "stdout",
     "output_type": "stream",
     "text": [
      "+------+--------------+---------------------------+------------+-----------------------+----------+-------------+-------------+\n",
      "|gender|race/ethnicity|parental level of education|       lunch|test preparation course|math score|reading score|writing score|\n",
      "+------+--------------+---------------------------+------------+-----------------------+----------+-------------+-------------+\n",
      "|female|       group B|          bachelor's degree|    standard|                   none|        72|           72|           74|\n",
      "|female|       group C|               some college|    standard|              completed|        69|           90|           88|\n",
      "|female|       group B|            master's degree|    standard|                   none|        90|           95|           93|\n",
      "|  male|       group A|         associate's degree|free/reduced|                   none|        47|           57|           44|\n",
      "|  male|       group C|               some college|    standard|                   none|        76|           78|           75|\n",
      "|female|       group B|         associate's degree|    standard|                   none|        71|           83|           78|\n",
      "|female|       group B|               some college|    standard|              completed|        88|           95|           92|\n",
      "|  male|       group B|               some college|free/reduced|                   none|        40|           43|           39|\n",
      "|  male|       group D|                high school|free/reduced|              completed|        64|           64|           67|\n",
      "|female|       group B|                high school|free/reduced|                   none|        38|           60|           50|\n",
      "|  male|       group C|         associate's degree|    standard|                   none|        58|           54|           52|\n",
      "|  male|       group D|         associate's degree|    standard|                   none|        40|           52|           43|\n",
      "|female|       group B|                high school|    standard|                   none|        65|           81|           73|\n",
      "|  male|       group A|               some college|    standard|              completed|        78|           72|           70|\n",
      "|female|       group A|            master's degree|    standard|                   none|        50|           53|           58|\n",
      "|female|       group C|           some high school|    standard|                   none|        69|           75|           78|\n",
      "|  male|       group C|                high school|    standard|                   none|        88|           89|           86|\n",
      "|female|       group B|           some high school|free/reduced|                   none|        18|           32|           28|\n",
      "|  male|       group C|            master's degree|free/reduced|              completed|        46|           42|           46|\n",
      "|female|       group C|         associate's degree|free/reduced|                   none|        54|           58|           61|\n",
      "+------+--------------+---------------------------+------------+-----------------------+----------+-------------+-------------+\n",
      "only showing top 20 rows\n",
      "\n"
     ]
    }
   ],
   "source": [
    "df.show()"
   ]
  },
  {
   "cell_type": "markdown",
   "metadata": {},
   "source": [
    "Resumen de las Estadísticas Descriptivas del DataFrame:"
   ]
  },
  {
   "cell_type": "code",
   "execution_count": 8,
   "metadata": {
    "scrolled": false
   },
   "outputs": [
    {
     "name": "stdout",
     "output_type": "stream",
     "text": [
      "+-------+------+--------------+---------------------------+------------+-----------------------+------------------+------------------+-----------------+\n",
      "|summary|gender|race/ethnicity|parental level of education|       lunch|test preparation course|        math score|     reading score|    writing score|\n",
      "+-------+------+--------------+---------------------------+------------+-----------------------+------------------+------------------+-----------------+\n",
      "|  count|  1000|          1000|                       1000|        1000|                   1000|              1000|              1000|             1000|\n",
      "|   mean|  null|          null|                       null|        null|                   null|            66.089|            69.169|           68.054|\n",
      "| stddev|  null|          null|                       null|        null|                   null|15.163080096009454|14.600191937252223|15.19565701086966|\n",
      "|    min|female|       group A|         associate's degree|free/reduced|              completed|                 0|                17|               10|\n",
      "|    25%|  null|          null|                       null|        null|                   null|                57|                59|               57|\n",
      "|    50%|  null|          null|                       null|        null|                   null|                66|                70|               69|\n",
      "|    75%|  null|          null|                       null|        null|                   null|                77|                79|               79|\n",
      "|    max|  male|       group E|           some high school|    standard|                   none|               100|               100|              100|\n",
      "+-------+------+--------------+---------------------------+------------+-----------------------+------------------+------------------+-----------------+\n",
      "\n"
     ]
    }
   ],
   "source": [
    "df.summary().show()"
   ]
  },
  {
   "cell_type": "markdown",
   "metadata": {},
   "source": [
    "Mostrar solo unas columnas y filas:"
   ]
  },
  {
   "cell_type": "code",
   "execution_count": 9,
   "metadata": {},
   "outputs": [
    {
     "name": "stdout",
     "output_type": "stream",
     "text": [
      "+------+-------------+\n",
      "|gender|reading score|\n",
      "+------+-------------+\n",
      "|female|           72|\n",
      "|female|           90|\n",
      "|female|           95|\n",
      "|  male|           57|\n",
      "|  male|           78|\n",
      "|female|           83|\n",
      "|female|           95|\n",
      "|  male|           43|\n",
      "|  male|           64|\n",
      "|female|           60|\n",
      "|  male|           54|\n",
      "|  male|           52|\n",
      "|female|           81|\n",
      "|  male|           72|\n",
      "|female|           53|\n",
      "|female|           75|\n",
      "|  male|           89|\n",
      "|female|           32|\n",
      "|  male|           42|\n",
      "|female|           58|\n",
      "+------+-------------+\n",
      "only showing top 20 rows\n",
      "\n"
     ]
    }
   ],
   "source": [
    "df.select(['gender','reading score']).show()"
   ]
  },
  {
   "cell_type": "markdown",
   "metadata": {},
   "source": [
    "Mostrar solo ciertos datos a partir de un criterio:"
   ]
  },
  {
   "cell_type": "code",
   "execution_count": 10,
   "metadata": {},
   "outputs": [
    {
     "data": {
      "text/plain": [
       "176"
      ]
     },
     "execution_count": 10,
     "metadata": {},
     "output_type": "execute_result"
    }
   ],
   "source": [
    "df.filter(df['math score'] > 80).count()"
   ]
  },
  {
   "cell_type": "code",
   "execution_count": 11,
   "metadata": {},
   "outputs": [
    {
     "name": "stdout",
     "output_type": "stream",
     "text": [
      "+------+--------------+---------------------------+------------+-----------------------+----------+-------------+-------------+\n",
      "|gender|race/ethnicity|parental level of education|       lunch|test preparation course|math score|reading score|writing score|\n",
      "+------+--------------+---------------------------+------------+-----------------------+----------+-------------+-------------+\n",
      "|female|       group B|            master's degree|    standard|                   none|        90|           95|           93|\n",
      "|female|       group B|               some college|    standard|              completed|        88|           95|           92|\n",
      "|  male|       group C|                high school|    standard|                   none|        88|           89|           86|\n",
      "|  male|       group E|               some college|    standard|                   none|        97|           87|           82|\n",
      "|  male|       group E|         associate's degree|    standard|              completed|        81|           81|           79|\n",
      "|  male|       group C|                high school|    standard|              completed|        82|           84|           82|\n",
      "|  male|       group D|                high school|    standard|                   none|        88|           78|           75|\n",
      "|female|       group E|         associate's degree|    standard|              completed|        82|           85|           86|\n",
      "|female|       group D|         associate's degree|    standard|                   none|        85|           91|           89|\n",
      "|  male|       group C|               some college|    standard|              completed|        98|           86|           90|\n",
      "|female|       group D|            master's degree|    standard|                   none|        87|          100|          100|\n",
      "|female|       group E|          bachelor's degree|    standard|              completed|        99|          100|          100|\n",
      "|  male|       group C|                high school|    standard|                   none|        84|           77|           74|\n",
      "|  male|       group B|         associate's degree|    standard|              completed|        91|           89|           92|\n",
      "|female|       group C|               some college|    standard|              completed|        88|           93|           93|\n",
      "|  male|       group E|               some college|    standard|                   none|        83|           80|           73|\n",
      "|female|       group B|                high school|    standard|                   none|        87|           95|           86|\n",
      "|  male|       group D|            master's degree|    standard|                   none|        82|           82|           74|\n",
      "|  male|       group D|            master's degree|    standard|                   none|        89|           84|           82|\n",
      "|  male|       group E|               some college|free/reduced|              completed|        87|           74|           70|\n",
      "+------+--------------+---------------------------+------------+-----------------------+----------+-------------+-------------+\n",
      "only showing top 20 rows\n",
      "\n"
     ]
    }
   ],
   "source": [
    "df.filter(df['math score'] > 80).show()"
   ]
  },
  {
   "cell_type": "markdown",
   "metadata": {},
   "source": [
    "Flitrado:"
   ]
  },
  {
   "cell_type": "code",
   "execution_count": 12,
   "metadata": {},
   "outputs": [
    {
     "data": {
      "text/plain": [
       "114"
      ]
     },
     "execution_count": 12,
     "metadata": {},
     "output_type": "execute_result"
    }
   ],
   "source": [
    "df.filter(df['math score'] > 80).filter(df['writing score'] > 80).count()"
   ]
  },
  {
   "cell_type": "code",
   "execution_count": 13,
   "metadata": {},
   "outputs": [
    {
     "name": "stdout",
     "output_type": "stream",
     "text": [
      "+------+--------------+---------------------------+------------+-----------------------+----------+-------------+-------------+\n",
      "|gender|race/ethnicity|parental level of education|       lunch|test preparation course|math score|reading score|writing score|\n",
      "+------+--------------+---------------------------+------------+-----------------------+----------+-------------+-------------+\n",
      "|female|       group B|            master's degree|    standard|                   none|        90|           95|           93|\n",
      "|female|       group B|               some college|    standard|              completed|        88|           95|           92|\n",
      "|  male|       group C|                high school|    standard|                   none|        88|           89|           86|\n",
      "|  male|       group E|               some college|    standard|                   none|        97|           87|           82|\n",
      "|  male|       group C|                high school|    standard|              completed|        82|           84|           82|\n",
      "|female|       group E|         associate's degree|    standard|              completed|        82|           85|           86|\n",
      "|female|       group D|         associate's degree|    standard|                   none|        85|           91|           89|\n",
      "|  male|       group C|               some college|    standard|              completed|        98|           86|           90|\n",
      "|female|       group D|            master's degree|    standard|                   none|        87|          100|          100|\n",
      "|female|       group E|          bachelor's degree|    standard|              completed|        99|          100|          100|\n",
      "|  male|       group B|         associate's degree|    standard|              completed|        91|           89|           92|\n",
      "|female|       group C|               some college|    standard|              completed|        88|           93|           93|\n",
      "|female|       group B|                high school|    standard|                   none|        87|           95|           86|\n",
      "|  male|       group D|            master's degree|    standard|                   none|        89|           84|           82|\n",
      "|  male|       group E|         associate's degree|free/reduced|              completed|       100|          100|           93|\n",
      "|female|       group E|            master's degree|    standard|                   none|        81|           92|           91|\n",
      "|female|       group C|          bachelor's degree|    standard|              completed|        96|          100|          100|\n",
      "|female|       group C|            master's degree|    standard|              completed|        81|           91|           87|\n",
      "|female|       group D|           some high school|    standard|              completed|        97|          100|          100|\n",
      "|  male|       group E|                high school|    standard|              completed|        87|           91|           81|\n",
      "+------+--------------+---------------------------+------------+-----------------------+----------+-------------+-------------+\n",
      "only showing top 20 rows\n",
      "\n"
     ]
    }
   ],
   "source": [
    "df.filter(df['math score'] > 80).filter(df['writing score'] > 80).show()"
   ]
  },
  {
   "cell_type": "markdown",
   "metadata": {},
   "source": [
    "Otra forma de filtrar es con WHERE y operaciones Booleanas:"
   ]
  },
  {
   "cell_type": "code",
   "execution_count": 14,
   "metadata": {},
   "outputs": [
    {
     "name": "stdout",
     "output_type": "stream",
     "text": [
      "+------+--------------+---------------------------+------------+-----------------------+----------+-------------+-------------+\n",
      "|gender|race/ethnicity|parental level of education|       lunch|test preparation course|math score|reading score|writing score|\n",
      "+------+--------------+---------------------------+------------+-----------------------+----------+-------------+-------------+\n",
      "|female|       group B|            master's degree|    standard|                   none|        90|           95|           93|\n",
      "|female|       group B|               some college|    standard|              completed|        88|           95|           92|\n",
      "|  male|       group C|                high school|    standard|                   none|        88|           89|           86|\n",
      "|  male|       group E|               some college|    standard|                   none|        97|           87|           82|\n",
      "|  male|       group C|                high school|    standard|              completed|        82|           84|           82|\n",
      "|female|       group E|         associate's degree|    standard|              completed|        82|           85|           86|\n",
      "|female|       group D|         associate's degree|    standard|                   none|        85|           91|           89|\n",
      "|  male|       group C|               some college|    standard|              completed|        98|           86|           90|\n",
      "|female|       group D|            master's degree|    standard|                   none|        87|          100|          100|\n",
      "|female|       group E|          bachelor's degree|    standard|              completed|        99|          100|          100|\n",
      "|  male|       group B|         associate's degree|    standard|              completed|        91|           89|           92|\n",
      "|female|       group C|               some college|    standard|              completed|        88|           93|           93|\n",
      "|female|       group B|                high school|    standard|                   none|        87|           95|           86|\n",
      "|  male|       group D|            master's degree|    standard|                   none|        89|           84|           82|\n",
      "|  male|       group E|         associate's degree|free/reduced|              completed|       100|          100|           93|\n",
      "|female|       group E|            master's degree|    standard|                   none|        81|           92|           91|\n",
      "|female|       group C|          bachelor's degree|    standard|              completed|        96|          100|          100|\n",
      "|female|       group C|            master's degree|    standard|              completed|        81|           91|           87|\n",
      "|female|       group D|           some high school|    standard|              completed|        97|          100|          100|\n",
      "|  male|       group E|                high school|    standard|              completed|        87|           91|           81|\n",
      "+------+--------------+---------------------------+------------+-----------------------+----------+-------------+-------------+\n",
      "only showing top 20 rows\n",
      "\n"
     ]
    }
   ],
   "source": [
    "df.where((df['math score'] > 80) & (df['writing score'] > 80)).show()"
   ]
  },
  {
   "cell_type": "markdown",
   "metadata": {},
   "source": [
    "Se puede saber cuantos datos hay de una categoria especifica:"
   ]
  },
  {
   "cell_type": "code",
   "execution_count": 15,
   "metadata": {},
   "outputs": [
    {
     "name": "stdout",
     "output_type": "stream",
     "text": [
      "+------+-----+\n",
      "|gender|count|\n",
      "+------+-----+\n",
      "|female|  518|\n",
      "|  male|  482|\n",
      "+------+-----+\n",
      "\n"
     ]
    }
   ],
   "source": [
    "df.groupBy('gender').count().show()"
   ]
  },
  {
   "cell_type": "code",
   "execution_count": 16,
   "metadata": {
    "scrolled": true
   },
   "outputs": [
    {
     "name": "stdout",
     "output_type": "stream",
     "text": [
      "+---------------------------+-----+\n",
      "|parental level of education|count|\n",
      "+---------------------------+-----+\n",
      "|           some high school|  179|\n",
      "|         associate's degree|  222|\n",
      "|                high school|  196|\n",
      "|          bachelor's degree|  118|\n",
      "|            master's degree|   59|\n",
      "|               some college|  226|\n",
      "+---------------------------+-----+\n",
      "\n"
     ]
    }
   ],
   "source": [
    "df.groupBy('parental level of education').count().show()"
   ]
  },
  {
   "cell_type": "markdown",
   "metadata": {},
   "source": [
    "Extrayendo **INSIGHTS**..."
   ]
  },
  {
   "cell_type": "markdown",
   "metadata": {},
   "source": [
    "## Cinco acciones de procesado de datos que se hayan estudiado en clase "
   ]
  },
  {
   "cell_type": "markdown",
   "metadata": {},
   "source": [
    "Características de los estudiantes con Notas en Matemáticas mayores a 90"
   ]
  },
  {
   "cell_type": "code",
   "execution_count": 17,
   "metadata": {},
   "outputs": [
    {
     "name": "stdout",
     "output_type": "stream",
     "text": [
      "+------+--------------+---------------------------+------------+-----------------------+----------+-------------+-------------+\n",
      "|gender|race/ethnicity|parental level of education|       lunch|test preparation course|math score|reading score|writing score|\n",
      "+------+--------------+---------------------------+------------+-----------------------+----------+-------------+-------------+\n",
      "|  male|       group E|               some college|    standard|                   none|        97|           87|           82|\n",
      "|  male|       group C|               some college|    standard|              completed|        98|           86|           90|\n",
      "|female|       group E|          bachelor's degree|    standard|              completed|        99|          100|          100|\n",
      "|  male|       group B|         associate's degree|    standard|              completed|        91|           89|           92|\n",
      "|  male|       group E|         associate's degree|free/reduced|              completed|       100|          100|           93|\n",
      "|female|       group C|          bachelor's degree|    standard|              completed|        96|          100|          100|\n",
      "|  male|       group E|           some high school|    standard|                   none|        94|           88|           78|\n",
      "|female|       group D|           some high school|    standard|              completed|        97|          100|          100|\n",
      "|  male|       group E|           some high school|    standard|                   none|        92|           87|           78|\n",
      "|female|       group E|                high school|    standard|                   none|        99|           93|           90|\n",
      "|  male|       group E|         associate's degree|    standard|              completed|        97|           82|           88|\n",
      "|  male|       group E|               some college|    standard|              completed|        99|           87|           81|\n",
      "|female|       group E|               some college|    standard|                   none|       100|           92|           97|\n",
      "|female|       group E|          bachelor's degree|    standard|                   none|       100|          100|          100|\n",
      "|  male|       group C|               some college|    standard|                   none|        91|           74|           76|\n",
      "|female|       group B|         associate's degree|    standard|              completed|        94|           87|           92|\n",
      "|female|       group E|         associate's degree|    standard|              completed|        95|           89|           92|\n",
      "|female|       group C|         associate's degree|    standard|                   none|        91|           86|           84|\n",
      "|  male|       group A|         associate's degree|    standard|              completed|        97|           92|           86|\n",
      "|female|       group A|           some high school|    standard|              completed|        92|          100|           97|\n",
      "+------+--------------+---------------------------+------------+-----------------------+----------+-------------+-------------+\n",
      "only showing top 20 rows\n",
      "\n"
     ]
    }
   ],
   "source": [
    "df.filter(df['math score'] > 90).show()"
   ]
  },
  {
   "cell_type": "markdown",
   "metadata": {},
   "source": [
    "Para un determinado grupo (columna) puedo analizar valores asociados a ella en forma de estadistica (promedio etc) \n",
    "\n",
    "Determinar el valor promedio de la columna **reading score** de acuerdo a los distintos valores de la columna **test preparation course**"
   ]
  },
  {
   "cell_type": "code",
   "execution_count": 18,
   "metadata": {
    "scrolled": true
   },
   "outputs": [
    {
     "name": "stdout",
     "output_type": "stream",
     "text": [
      "+-----------------------+------------------+\n",
      "|test preparation course|avg(reading score)|\n",
      "+-----------------------+------------------+\n",
      "|              completed| 73.89385474860335|\n",
      "|                   none| 66.53426791277259|\n",
      "+-----------------------+------------------+\n",
      "\n"
     ]
    }
   ],
   "source": [
    "df.groupBy('test preparation course').agg(F.mean('reading score')).show()"
   ]
  },
  {
   "cell_type": "markdown",
   "metadata": {},
   "source": [
    "Determinar el valor máximo de la columna **reading score** de acuerdo a los distintos valores de la columna **test preparation course**"
   ]
  },
  {
   "cell_type": "code",
   "execution_count": 19,
   "metadata": {},
   "outputs": [
    {
     "name": "stdout",
     "output_type": "stream",
     "text": [
      "+-----------------------+------------------+\n",
      "|test preparation course|max(reading score)|\n",
      "+-----------------------+------------------+\n",
      "|              completed|               100|\n",
      "|                   none|               100|\n",
      "+-----------------------+------------------+\n",
      "\n"
     ]
    }
   ],
   "source": [
    "df.groupBy('test preparation course').agg(F.max('reading score')).show()"
   ]
  },
  {
   "cell_type": "markdown",
   "metadata": {},
   "source": [
    "También puedo mostrar los datos un orden ascendente o decendente:\n",
    "\n",
    "Datos en orden ascendente de acuerdo a la columna **reading score**"
   ]
  },
  {
   "cell_type": "code",
   "execution_count": 20,
   "metadata": {},
   "outputs": [
    {
     "name": "stdout",
     "output_type": "stream",
     "text": [
      "+------+--------------+---------------------------+------------+-----------------------+----------+-------------+-------------+\n",
      "|gender|race/ethnicity|parental level of education|       lunch|test preparation course|math score|reading score|writing score|\n",
      "+------+--------------+---------------------------+------------+-----------------------+----------+-------------+-------------+\n",
      "|female|       group C|           some high school|free/reduced|                   none|         0|           17|           10|\n",
      "|  male|       group A|               some college|free/reduced|                   none|        28|           23|           19|\n",
      "|  male|       group B|                high school|free/reduced|                   none|        30|           24|           15|\n",
      "|female|       group B|                high school|free/reduced|                   none|         8|           24|           23|\n",
      "|  male|       group E|           some high school|    standard|                   none|        30|           26|           22|\n",
      "|  male|       group C|               some college|free/reduced|                   none|        35|           28|           27|\n",
      "|female|       group C|                high school|    standard|                   none|        29|           29|           30|\n",
      "|  male|       group B|                high school|free/reduced|                   none|        36|           29|           27|\n",
      "|female|       group D|         associate's degree|free/reduced|                   none|        26|           31|           38|\n",
      "|  male|       group A|           some high school|    standard|                   none|        51|           31|           36|\n",
      "|female|       group B|           some high school|free/reduced|                   none|        18|           32|           28|\n",
      "|female|       group D|           some high school|free/reduced|                   none|        27|           34|           32|\n",
      "|  male|       group D|                high school|    standard|                   none|        46|           34|           36|\n",
      "|female|       group E|           some high school|free/reduced|                   none|        32|           34|           38|\n",
      "|  male|       group C|                high school|free/reduced|                   none|        27|           34|           36|\n",
      "|  male|       group C|           some high school|free/reduced|              completed|        53|           37|           40|\n",
      "|  male|       group C|         associate's degree|    standard|                   none|        47|           37|           35|\n",
      "|  male|       group D|           some high school|free/reduced|                   none|        45|           37|           37|\n",
      "|female|       group B|           some high school|free/reduced|                   none|        24|           38|           27|\n",
      "|female|       group B|               some college|    standard|                   none|        19|           38|           32|\n",
      "+------+--------------+---------------------------+------------+-----------------------+----------+-------------+-------------+\n",
      "only showing top 20 rows\n",
      "\n"
     ]
    }
   ],
   "source": [
    "df.sort(\"reading score\").show()"
   ]
  },
  {
   "cell_type": "markdown",
   "metadata": {},
   "source": [
    "Otra manera de presentar los datos en orden ascendente de acuerdo a la columna **reading score**"
   ]
  },
  {
   "cell_type": "code",
   "execution_count": 21,
   "metadata": {},
   "outputs": [
    {
     "name": "stdout",
     "output_type": "stream",
     "text": [
      "+------+--------------+---------------------------+------------+-----------------------+----------+-------------+-------------+\n",
      "|gender|race/ethnicity|parental level of education|       lunch|test preparation course|math score|reading score|writing score|\n",
      "+------+--------------+---------------------------+------------+-----------------------+----------+-------------+-------------+\n",
      "|female|       group C|           some high school|free/reduced|                   none|         0|           17|           10|\n",
      "|  male|       group A|               some college|free/reduced|                   none|        28|           23|           19|\n",
      "|  male|       group B|                high school|free/reduced|                   none|        30|           24|           15|\n",
      "|female|       group B|                high school|free/reduced|                   none|         8|           24|           23|\n",
      "|  male|       group E|           some high school|    standard|                   none|        30|           26|           22|\n",
      "|  male|       group C|               some college|free/reduced|                   none|        35|           28|           27|\n",
      "|female|       group C|                high school|    standard|                   none|        29|           29|           30|\n",
      "|  male|       group B|                high school|free/reduced|                   none|        36|           29|           27|\n",
      "|female|       group D|         associate's degree|free/reduced|                   none|        26|           31|           38|\n",
      "|  male|       group A|           some high school|    standard|                   none|        51|           31|           36|\n",
      "|female|       group B|           some high school|free/reduced|                   none|        18|           32|           28|\n",
      "|female|       group D|           some high school|free/reduced|                   none|        27|           34|           32|\n",
      "|  male|       group D|                high school|    standard|                   none|        46|           34|           36|\n",
      "|female|       group E|           some high school|free/reduced|                   none|        32|           34|           38|\n",
      "|  male|       group C|                high school|free/reduced|                   none|        27|           34|           36|\n",
      "|  male|       group C|           some high school|free/reduced|              completed|        53|           37|           40|\n",
      "|  male|       group C|         associate's degree|    standard|                   none|        47|           37|           35|\n",
      "|  male|       group D|           some high school|free/reduced|                   none|        45|           37|           37|\n",
      "|female|       group B|           some high school|free/reduced|                   none|        24|           38|           27|\n",
      "|female|       group B|               some college|    standard|                   none|        19|           38|           32|\n",
      "+------+--------------+---------------------------+------------+-----------------------+----------+-------------+-------------+\n",
      "only showing top 20 rows\n",
      "\n"
     ]
    }
   ],
   "source": [
    "df.sort(\"reading score\", ascending=True).show()"
   ]
  },
  {
   "cell_type": "markdown",
   "metadata": {},
   "source": [
    "Datos en orden descendente de acuerdo a la columna **reading score**"
   ]
  },
  {
   "cell_type": "code",
   "execution_count": 22,
   "metadata": {},
   "outputs": [
    {
     "name": "stdout",
     "output_type": "stream",
     "text": [
      "+------+--------------+---------------------------+------------+-----------------------+----------+-------------+-------------+\n",
      "|gender|race/ethnicity|parental level of education|       lunch|test preparation course|math score|reading score|writing score|\n",
      "+------+--------------+---------------------------+------------+-----------------------+----------+-------------+-------------+\n",
      "|  male|       group E|         associate's degree|free/reduced|              completed|       100|          100|           93|\n",
      "|female|       group D|            master's degree|    standard|                   none|        87|          100|          100|\n",
      "|  male|       group C|         associate's degree|    standard|              completed|        87|          100|           95|\n",
      "|female|       group E|          bachelor's degree|    standard|                   none|       100|          100|          100|\n",
      "|female|       group A|           some high school|    standard|              completed|        92|          100|           97|\n",
      "|female|       group E|          bachelor's degree|    standard|              completed|        99|          100|          100|\n",
      "|female|       group D|               some college|    standard|                   none|        98|          100|           99|\n",
      "|female|       group E|         associate's degree|    standard|              completed|        93|          100|           95|\n",
      "|female|       group D|          bachelor's degree|free/reduced|              completed|        93|          100|          100|\n",
      "|  male|       group E|          bachelor's degree|    standard|              completed|       100|          100|          100|\n",
      "|female|       group D|            master's degree|    standard|                   none|        92|          100|          100|\n",
      "|female|       group E|         associate's degree|    standard|                   none|       100|          100|          100|\n",
      "|female|       group D|          bachelor's degree|    standard|                   none|        89|          100|          100|\n",
      "|female|       group E|          bachelor's degree|free/reduced|              completed|        92|          100|          100|\n",
      "|female|       group C|          bachelor's degree|    standard|              completed|        96|          100|          100|\n",
      "|female|       group C|          bachelor's degree|    standard|              completed|        92|          100|           99|\n",
      "|female|       group D|           some high school|    standard|              completed|        97|          100|          100|\n",
      "|female|       group D|                high school|    standard|              completed|        88|           99|          100|\n",
      "|female|       group E|            master's degree|    standard|              completed|        94|           99|          100|\n",
      "|female|       group E|            master's degree|    standard|              completed|        88|           99|           95|\n",
      "+------+--------------+---------------------------+------------+-----------------------+----------+-------------+-------------+\n",
      "only showing top 20 rows\n",
      "\n"
     ]
    }
   ],
   "source": [
    "df.sort(\"reading score\", ascending=False).show()"
   ]
  },
  {
   "cell_type": "markdown",
   "metadata": {},
   "source": [
    "También se pueden mezclar los criterios anteriores:"
   ]
  },
  {
   "cell_type": "code",
   "execution_count": 23,
   "metadata": {
    "scrolled": true
   },
   "outputs": [
    {
     "name": "stdout",
     "output_type": "stream",
     "text": [
      "+---------------------------+-----------------+\n",
      "|parental level of education|     mean_reading|\n",
      "+---------------------------+-----------------+\n",
      "|            master's degree|75.37288135593221|\n",
      "|          bachelor's degree|             73.0|\n",
      "|         associate's degree|70.92792792792793|\n",
      "|               some college|69.46017699115045|\n",
      "|           some high school|66.93854748603351|\n",
      "|                high school|64.70408163265306|\n",
      "+---------------------------+-----------------+\n",
      "\n"
     ]
    }
   ],
   "source": [
    "df.groupBy('parental level of education').agg(F.avg('reading score'). alias('mean_reading')).orderBy('mean_reading',\n",
    "           ascending=False). show()"
   ]
  },
  {
   "cell_type": "markdown",
   "metadata": {},
   "source": [
    "Con el uso de un numero y FALSE en el SHOW se pueden ver mas de 20 lineas que es lo que se tiene por defecto:"
   ]
  },
  {
   "cell_type": "code",
   "execution_count": 24,
   "metadata": {},
   "outputs": [
    {
     "name": "stdout",
     "output_type": "stream",
     "text": [
      "+---------------------------+-----------------+\n",
      "|parental level of education|mean_reading     |\n",
      "+---------------------------+-----------------+\n",
      "|master's degree            |75.37288135593221|\n",
      "|bachelor's degree          |73.0             |\n",
      "|associate's degree         |70.92792792792793|\n",
      "|some college               |69.46017699115045|\n",
      "|some high school           |66.93854748603351|\n",
      "|high school                |64.70408163265306|\n",
      "+---------------------------+-----------------+\n",
      "\n"
     ]
    }
   ],
   "source": [
    "df.groupBy('parental level of education').agg(F.avg('reading score'). \n",
    "                                              alias('mean_reading')) .orderBy('mean_reading', ascending=False). show(50,False)"
   ]
  },
  {
   "cell_type": "markdown",
   "metadata": {},
   "source": [
    "Con COLLECT se puede determinar el tipo de datos por cada valor:"
   ]
  },
  {
   "cell_type": "code",
   "execution_count": 25,
   "metadata": {},
   "outputs": [
    {
     "name": "stdout",
     "output_type": "stream",
     "text": [
      "+---------------------------+---------------------------+\n",
      "|parental level of education|collect_set(race/ethnicity)|\n",
      "+---------------------------+---------------------------+\n",
      "|           some high school|       [group A, group E...|\n",
      "|         associate's degree|       [group A, group E...|\n",
      "|                high school|       [group A, group E...|\n",
      "|          bachelor's degree|       [group A, group E...|\n",
      "|            master's degree|       [group A, group E...|\n",
      "|               some college|       [group A, group E...|\n",
      "+---------------------------+---------------------------+\n",
      "\n"
     ]
    }
   ],
   "source": [
    "df.groupby(\"parental level of education\").agg(F.collect_set(\"race/ethnicity\")).show()"
   ]
  },
  {
   "cell_type": "markdown",
   "metadata": {},
   "source": [
    "Que otras operaciones conoce que sean relavantes en la inspección de datos? "
   ]
  },
  {
   "cell_type": "markdown",
   "metadata": {},
   "source": [
    "## Tres acciones procesado de datos que NO se hayan estudiado en clase "
   ]
  },
  {
   "cell_type": "markdown",
   "metadata": {},
   "source": [
    "### 1) Análisis de datos"
   ]
  },
  {
   "cell_type": "markdown",
   "metadata": {},
   "source": [
    "#### Para mostrar una fila de los datos del DataFrame:"
   ]
  },
  {
   "cell_type": "code",
   "execution_count": 26,
   "metadata": {},
   "outputs": [
    {
     "data": {
      "text/plain": [
       "[Row(gender='female', race/ethnicity='group B', parental level of education=\"bachelor's degree\", lunch='standard', test preparation course='none', math score=72, reading score=72, writing score=74)]"
      ]
     },
     "execution_count": 26,
     "metadata": {},
     "output_type": "execute_result"
    }
   ],
   "source": [
    "df.take(1)"
   ]
  },
  {
   "cell_type": "markdown",
   "metadata": {},
   "source": [
    "Otra manera de obtener los valores por filas de los datos del DataFrame:"
   ]
  },
  {
   "cell_type": "code",
   "execution_count": 27,
   "metadata": {},
   "outputs": [
    {
     "data": {
      "text/plain": [
       "[Row(gender='female', race/ethnicity='group B', parental level of education=\"bachelor's degree\", lunch='standard', test preparation course='none', math score=72, reading score=72, writing score=74)]"
      ]
     },
     "execution_count": 27,
     "metadata": {},
     "output_type": "execute_result"
    }
   ],
   "source": [
    "df.head(1)"
   ]
  },
  {
   "cell_type": "markdown",
   "metadata": {},
   "source": [
    "Este comando es similar al show(), con la diferencia de que show() muestra el dato en forma de una tabla."
   ]
  },
  {
   "cell_type": "code",
   "execution_count": 28,
   "metadata": {},
   "outputs": [
    {
     "name": "stdout",
     "output_type": "stream",
     "text": [
      "+------+--------------+---------------------------+--------+-----------------------+----------+-------------+-------------+\n",
      "|gender|race/ethnicity|parental level of education|   lunch|test preparation course|math score|reading score|writing score|\n",
      "+------+--------------+---------------------------+--------+-----------------------+----------+-------------+-------------+\n",
      "|female|       group B|          bachelor's degree|standard|                   none|        72|           72|           74|\n",
      "+------+--------------+---------------------------+--------+-----------------------+----------+-------------+-------------+\n",
      "only showing top 1 row\n",
      "\n"
     ]
    }
   ],
   "source": [
    "df.show(1)"
   ]
  },
  {
   "cell_type": "markdown",
   "metadata": {},
   "source": [
    "#### Para poder visualizar los nombres de los feature (columnas) de un DataFrame:"
   ]
  },
  {
   "cell_type": "code",
   "execution_count": 29,
   "metadata": {},
   "outputs": [
    {
     "data": {
      "text/plain": [
       "['gender',\n",
       " 'race/ethnicity',\n",
       " 'parental level of education',\n",
       " 'lunch',\n",
       " 'test preparation course',\n",
       " 'math score',\n",
       " 'reading score',\n",
       " 'writing score']"
      ]
     },
     "execution_count": 29,
     "metadata": {},
     "output_type": "execute_result"
    }
   ],
   "source": [
    "df.columns"
   ]
  },
  {
   "cell_type": "markdown",
   "metadata": {},
   "source": [
    "#### Para poder visualizar si una feature (columna) tiene datos nulos:"
   ]
  },
  {
   "cell_type": "code",
   "execution_count": 30,
   "metadata": {},
   "outputs": [
    {
     "data": {
      "text/plain": [
       "[]"
      ]
     },
     "execution_count": 30,
     "metadata": {},
     "output_type": "execute_result"
    }
   ],
   "source": [
    "df.filter(df[\"gender\"].isNull()).collect()"
   ]
  },
  {
   "cell_type": "markdown",
   "metadata": {},
   "source": [
    "Para poder contar la cantidad de datos nulos de una feature (columna) :"
   ]
  },
  {
   "cell_type": "code",
   "execution_count": 31,
   "metadata": {},
   "outputs": [
    {
     "data": {
      "text/plain": [
       "0"
      ]
     },
     "execution_count": 31,
     "metadata": {},
     "output_type": "execute_result"
    }
   ],
   "source": [
    "df.filter(df[\"reading score\"].isNull()).count()"
   ]
  },
  {
   "cell_type": "markdown",
   "metadata": {},
   "source": [
    "#### Para mostrar los valores distintos presentes en una columna  :"
   ]
  },
  {
   "cell_type": "code",
   "execution_count": 32,
   "metadata": {},
   "outputs": [
    {
     "name": "stdout",
     "output_type": "stream",
     "text": [
      "+------------+\n",
      "|       lunch|\n",
      "+------------+\n",
      "|free/reduced|\n",
      "|    standard|\n",
      "+------------+\n",
      "\n"
     ]
    }
   ],
   "source": [
    "df.select('lunch').distinct().show()"
   ]
  },
  {
   "cell_type": "markdown",
   "metadata": {},
   "source": [
    "#### Para poder obtener el coeficiente de Correlación de Pearson entre dos features (columnas):"
   ]
  },
  {
   "cell_type": "code",
   "execution_count": 33,
   "metadata": {},
   "outputs": [
    {
     "name": "stdout",
     "output_type": "stream",
     "text": [
      "+-------------------+\n",
      "|Pearson Correlation|\n",
      "+-------------------+\n",
      "| 0.8175796636720539|\n",
      "+-------------------+\n",
      "\n"
     ]
    }
   ],
   "source": [
    "from pyspark.sql.functions import corr\n",
    "df.select(corr('math score', 'reading score').alias('Pearson Correlation')).show()"
   ]
  },
  {
   "cell_type": "markdown",
   "metadata": {},
   "source": [
    "#### Si se desea conocer de forma booleana el resultado de un filtro predeterminado sobre un feature (columna):"
   ]
  },
  {
   "cell_type": "code",
   "execution_count": 34,
   "metadata": {},
   "outputs": [
    {
     "name": "stdout",
     "output_type": "stream",
     "text": [
      "+------+--------------------------------------------+\n",
      "|gender|((math score >= 90) AND (math score <= 100))|\n",
      "+------+--------------------------------------------+\n",
      "|female|                                       false|\n",
      "|female|                                       false|\n",
      "|female|                                        true|\n",
      "|  male|                                       false|\n",
      "|  male|                                       false|\n",
      "|female|                                       false|\n",
      "|female|                                       false|\n",
      "|  male|                                       false|\n",
      "|  male|                                       false|\n",
      "|female|                                       false|\n",
      "|  male|                                       false|\n",
      "|  male|                                       false|\n",
      "|female|                                       false|\n",
      "|  male|                                       false|\n",
      "|female|                                       false|\n",
      "|female|                                       false|\n",
      "|  male|                                       false|\n",
      "|female|                                       false|\n",
      "|  male|                                       false|\n",
      "|female|                                       false|\n",
      "+------+--------------------------------------------+\n",
      "only showing top 20 rows\n",
      "\n"
     ]
    }
   ],
   "source": [
    "df.select(df[\"gender\"], df[\"math score\"].between(90, 100)).show()"
   ]
  },
  {
   "cell_type": "markdown",
   "metadata": {},
   "source": [
    "Empleando el métdo collect (), se puede apreciar el resultado anterior, pero observando el filtro empleado."
   ]
  },
  {
   "cell_type": "code",
   "execution_count": 35,
   "metadata": {
    "scrolled": true
   },
   "outputs": [
    {
     "data": {
      "text/plain": [
       "[Row(writing score=74, ((math score >= 90) AND (math score <= 100))=False),\n",
       " Row(writing score=88, ((math score >= 90) AND (math score <= 100))=False),\n",
       " Row(writing score=93, ((math score >= 90) AND (math score <= 100))=True),\n",
       " Row(writing score=44, ((math score >= 90) AND (math score <= 100))=False),\n",
       " Row(writing score=75, ((math score >= 90) AND (math score <= 100))=False),\n",
       " Row(writing score=78, ((math score >= 90) AND (math score <= 100))=False),\n",
       " Row(writing score=92, ((math score >= 90) AND (math score <= 100))=False),\n",
       " Row(writing score=39, ((math score >= 90) AND (math score <= 100))=False),\n",
       " Row(writing score=67, ((math score >= 90) AND (math score <= 100))=False),\n",
       " Row(writing score=50, ((math score >= 90) AND (math score <= 100))=False),\n",
       " Row(writing score=52, ((math score >= 90) AND (math score <= 100))=False),\n",
       " Row(writing score=43, ((math score >= 90) AND (math score <= 100))=False),\n",
       " Row(writing score=73, ((math score >= 90) AND (math score <= 100))=False),\n",
       " Row(writing score=70, ((math score >= 90) AND (math score <= 100))=False),\n",
       " Row(writing score=58, ((math score >= 90) AND (math score <= 100))=False),\n",
       " Row(writing score=78, ((math score >= 90) AND (math score <= 100))=False),\n",
       " Row(writing score=86, ((math score >= 90) AND (math score <= 100))=False),\n",
       " Row(writing score=28, ((math score >= 90) AND (math score <= 100))=False),\n",
       " Row(writing score=46, ((math score >= 90) AND (math score <= 100))=False),\n",
       " Row(writing score=61, ((math score >= 90) AND (math score <= 100))=False),\n",
       " Row(writing score=63, ((math score >= 90) AND (math score <= 100))=False),\n",
       " Row(writing score=70, ((math score >= 90) AND (math score <= 100))=False),\n",
       " Row(writing score=53, ((math score >= 90) AND (math score <= 100))=False),\n",
       " Row(writing score=73, ((math score >= 90) AND (math score <= 100))=False),\n",
       " Row(writing score=80, ((math score >= 90) AND (math score <= 100))=False),\n",
       " Row(writing score=72, ((math score >= 90) AND (math score <= 100))=False),\n",
       " Row(writing score=55, ((math score >= 90) AND (math score <= 100))=False),\n",
       " Row(writing score=75, ((math score >= 90) AND (math score <= 100))=False),\n",
       " Row(writing score=65, ((math score >= 90) AND (math score <= 100))=False),\n",
       " Row(writing score=75, ((math score >= 90) AND (math score <= 100))=False),\n",
       " Row(writing score=74, ((math score >= 90) AND (math score <= 100))=False),\n",
       " Row(writing score=61, ((math score >= 90) AND (math score <= 100))=False),\n",
       " Row(writing score=65, ((math score >= 90) AND (math score <= 100))=False),\n",
       " Row(writing score=38, ((math score >= 90) AND (math score <= 100))=False),\n",
       " Row(writing score=82, ((math score >= 90) AND (math score <= 100))=True),\n",
       " Row(writing score=79, ((math score >= 90) AND (math score <= 100))=False),\n",
       " Row(writing score=83, ((math score >= 90) AND (math score <= 100))=False),\n",
       " Row(writing score=59, ((math score >= 90) AND (math score <= 100))=False),\n",
       " Row(writing score=88, ((math score >= 90) AND (math score <= 100))=False),\n",
       " Row(writing score=57, ((math score >= 90) AND (math score <= 100))=False),\n",
       " Row(writing score=54, ((math score >= 90) AND (math score <= 100))=False),\n",
       " Row(writing score=68, ((math score >= 90) AND (math score <= 100))=False),\n",
       " Row(writing score=65, ((math score >= 90) AND (math score <= 100))=False),\n",
       " Row(writing score=66, ((math score >= 90) AND (math score <= 100))=False),\n",
       " Row(writing score=54, ((math score >= 90) AND (math score <= 100))=False),\n",
       " Row(writing score=57, ((math score >= 90) AND (math score <= 100))=False),\n",
       " Row(writing score=62, ((math score >= 90) AND (math score <= 100))=False),\n",
       " Row(writing score=76, ((math score >= 90) AND (math score <= 100))=False),\n",
       " Row(writing score=76, ((math score >= 90) AND (math score <= 100))=False),\n",
       " Row(writing score=82, ((math score >= 90) AND (math score <= 100))=False),\n",
       " Row(writing score=48, ((math score >= 90) AND (math score <= 100))=False),\n",
       " Row(writing score=68, ((math score >= 90) AND (math score <= 100))=False),\n",
       " Row(writing score=42, ((math score >= 90) AND (math score <= 100))=False),\n",
       " Row(writing score=75, ((math score >= 90) AND (math score <= 100))=False),\n",
       " Row(writing score=87, ((math score >= 90) AND (math score <= 100))=False),\n",
       " Row(writing score=43, ((math score >= 90) AND (math score <= 100))=False),\n",
       " Row(writing score=86, ((math score >= 90) AND (math score <= 100))=False),\n",
       " Row(writing score=49, ((math score >= 90) AND (math score <= 100))=False),\n",
       " Row(writing score=58, ((math score >= 90) AND (math score <= 100))=False),\n",
       " Row(writing score=10, ((math score >= 90) AND (math score <= 100))=False),\n",
       " Row(writing score=72, ((math score >= 90) AND (math score <= 100))=False),\n",
       " Row(writing score=34, ((math score >= 90) AND (math score <= 100))=False),\n",
       " Row(writing score=55, ((math score >= 90) AND (math score <= 100))=False),\n",
       " Row(writing score=71, ((math score >= 90) AND (math score <= 100))=False),\n",
       " Row(writing score=59, ((math score >= 90) AND (math score <= 100))=False),\n",
       " Row(writing score=61, ((math score >= 90) AND (math score <= 100))=False),\n",
       " Row(writing score=37, ((math score >= 90) AND (math score <= 100))=False),\n",
       " Row(writing score=74, ((math score >= 90) AND (math score <= 100))=False),\n",
       " Row(writing score=56, ((math score >= 90) AND (math score <= 100))=False),\n",
       " Row(writing score=57, ((math score >= 90) AND (math score <= 100))=False),\n",
       " Row(writing score=73, ((math score >= 90) AND (math score <= 100))=False),\n",
       " Row(writing score=63, ((math score >= 90) AND (math score <= 100))=False),\n",
       " Row(writing score=48, ((math score >= 90) AND (math score <= 100))=False),\n",
       " Row(writing score=56, ((math score >= 90) AND (math score <= 100))=False),\n",
       " Row(writing score=41, ((math score >= 90) AND (math score <= 100))=False),\n",
       " Row(writing score=38, ((math score >= 90) AND (math score <= 100))=False),\n",
       " Row(writing score=22, ((math score >= 90) AND (math score <= 100))=False),\n",
       " Row(writing score=81, ((math score >= 90) AND (math score <= 100))=False),\n",
       " Row(writing score=72, ((math score >= 90) AND (math score <= 100))=False),\n",
       " Row(writing score=68, ((math score >= 90) AND (math score <= 100))=False),\n",
       " Row(writing score=50, ((math score >= 90) AND (math score <= 100))=False),\n",
       " Row(writing score=45, ((math score >= 90) AND (math score <= 100))=False),\n",
       " Row(writing score=54, ((math score >= 90) AND (math score <= 100))=False),\n",
       " Row(writing score=63, ((math score >= 90) AND (math score <= 100))=False),\n",
       " Row(writing score=34, ((math score >= 90) AND (math score <= 100))=False),\n",
       " Row(writing score=82, ((math score >= 90) AND (math score <= 100))=False),\n",
       " Row(writing score=88, ((math score >= 90) AND (math score <= 100))=False),\n",
       " Row(writing score=74, ((math score >= 90) AND (math score <= 100))=False),\n",
       " Row(writing score=67, ((math score >= 90) AND (math score <= 100))=False),\n",
       " Row(writing score=82, ((math score >= 90) AND (math score <= 100))=False),\n",
       " Row(writing score=74, ((math score >= 90) AND (math score <= 100))=False),\n",
       " Row(writing score=36, ((math score >= 90) AND (math score <= 100))=False),\n",
       " Row(writing score=71, ((math score >= 90) AND (math score <= 100))=False),\n",
       " Row(writing score=50, ((math score >= 90) AND (math score <= 100))=False),\n",
       " Row(writing score=92, ((math score >= 90) AND (math score <= 100))=False),\n",
       " Row(writing score=82, ((math score >= 90) AND (math score <= 100))=False),\n",
       " Row(writing score=62, ((math score >= 90) AND (math score <= 100))=False),\n",
       " Row(writing score=70, ((math score >= 90) AND (math score <= 100))=False),\n",
       " Row(writing score=62, ((math score >= 90) AND (math score <= 100))=False),\n",
       " Row(writing score=62, ((math score >= 90) AND (math score <= 100))=False),\n",
       " Row(writing score=67, ((math score >= 90) AND (math score <= 100))=False),\n",
       " Row(writing score=74, ((math score >= 90) AND (math score <= 100))=False),\n",
       " Row(writing score=89, ((math score >= 90) AND (math score <= 100))=False),\n",
       " Row(writing score=47, ((math score >= 90) AND (math score <= 100))=False),\n",
       " Row(writing score=90, ((math score >= 90) AND (math score <= 100))=True),\n",
       " Row(writing score=72, ((math score >= 90) AND (math score <= 100))=False),\n",
       " Row(writing score=100, ((math score >= 90) AND (math score <= 100))=False),\n",
       " Row(writing score=64, ((math score >= 90) AND (math score <= 100))=False),\n",
       " Row(writing score=70, ((math score >= 90) AND (math score <= 100))=False),\n",
       " Row(writing score=72, ((math score >= 90) AND (math score <= 100))=False),\n",
       " Row(writing score=98, ((math score >= 90) AND (math score <= 100))=False),\n",
       " Row(writing score=49, ((math score >= 90) AND (math score <= 100))=False),\n",
       " Row(writing score=47, ((math score >= 90) AND (math score <= 100))=False),\n",
       " Row(writing score=54, ((math score >= 90) AND (math score <= 100))=False),\n",
       " Row(writing score=100, ((math score >= 90) AND (math score <= 100))=True),\n",
       " Row(writing score=74, ((math score >= 90) AND (math score <= 100))=False),\n",
       " Row(writing score=82, ((math score >= 90) AND (math score <= 100))=False),\n",
       " Row(writing score=79, ((math score >= 90) AND (math score <= 100))=False),\n",
       " Row(writing score=61, ((math score >= 90) AND (math score <= 100))=False),\n",
       " Row(writing score=65, ((math score >= 90) AND (math score <= 100))=False),\n",
       " Row(writing score=89, ((math score >= 90) AND (math score <= 100))=False),\n",
       " Row(writing score=92, ((math score >= 90) AND (math score <= 100))=True),\n",
       " Row(writing score=93, ((math score >= 90) AND (math score <= 100))=False),\n",
       " Row(writing score=56, ((math score >= 90) AND (math score <= 100))=False),\n",
       " Row(writing score=73, ((math score >= 90) AND (math score <= 100))=False),\n",
       " Row(writing score=86, ((math score >= 90) AND (math score <= 100))=False),\n",
       " Row(writing score=67, ((math score >= 90) AND (math score <= 100))=False),\n",
       " Row(writing score=74, ((math score >= 90) AND (math score <= 100))=False),\n",
       " Row(writing score=74, ((math score >= 90) AND (math score <= 100))=False),\n",
       " Row(writing score=51, ((math score >= 90) AND (math score <= 100))=False),\n",
       " Row(writing score=82, ((math score >= 90) AND (math score <= 100))=False),\n",
       " Row(writing score=40, ((math score >= 90) AND (math score <= 100))=False),\n",
       " Row(writing score=70, ((math score >= 90) AND (math score <= 100))=False),\n",
       " Row(writing score=84, ((math score >= 90) AND (math score <= 100))=False),\n",
       " Row(writing score=75, ((math score >= 90) AND (math score <= 100))=False),\n",
       " Row(writing score=48, ((math score >= 90) AND (math score <= 100))=False),\n",
       " Row(writing score=41, ((math score >= 90) AND (math score <= 100))=False),\n",
       " Row(writing score=56, ((math score >= 90) AND (math score <= 100))=False),\n",
       " Row(writing score=67, ((math score >= 90) AND (math score <= 100))=False),\n",
       " Row(writing score=69, ((math score >= 90) AND (math score <= 100))=False),\n",
       " Row(writing score=71, ((math score >= 90) AND (math score <= 100))=False),\n",
       " Row(writing score=64, ((math score >= 90) AND (math score <= 100))=False),\n",
       " Row(writing score=54, ((math score >= 90) AND (math score <= 100))=False),\n",
       " Row(writing score=47, ((math score >= 90) AND (math score <= 100))=False),\n",
       " Row(writing score=78, ((math score >= 90) AND (math score <= 100))=False),\n",
       " Row(writing score=33, ((math score >= 90) AND (math score <= 100))=False),\n",
       " Row(writing score=75, ((math score >= 90) AND (math score <= 100))=False),\n",
       " Row(writing score=66, ((math score >= 90) AND (math score <= 100))=False),\n",
       " Row(writing score=81, ((math score >= 90) AND (math score <= 100))=False),\n",
       " Row(writing score=93, ((math score >= 90) AND (math score <= 100))=True),\n",
       " Row(writing score=69, ((math score >= 90) AND (math score <= 100))=False),\n",
       " Row(writing score=68, ((math score >= 90) AND (math score <= 100))=False),\n",
       " Row(writing score=66, ((math score >= 90) AND (math score <= 100))=False),\n",
       " Row(writing score=47, ((math score >= 90) AND (math score <= 100))=False),\n",
       " Row(writing score=61, ((math score >= 90) AND (math score <= 100))=False),\n",
       " Row(writing score=88, ((math score >= 90) AND (math score <= 100))=False),\n",
       " Row(writing score=78, ((math score >= 90) AND (math score <= 100))=False),\n",
       " Row(writing score=60, ((math score >= 90) AND (math score <= 100))=False),\n",
       " Row(writing score=87, ((math score >= 90) AND (math score <= 100))=False),\n",
       " Row(writing score=64, ((math score >= 90) AND (math score <= 100))=False),\n",
       " Row(writing score=74, ((math score >= 90) AND (math score <= 100))=False),\n",
       " Row(writing score=85, ((math score >= 90) AND (math score <= 100))=False),\n",
       " Row(writing score=52, ((math score >= 90) AND (math score <= 100))=False),\n",
       " Row(writing score=49, ((math score >= 90) AND (math score <= 100))=False),\n",
       " Row(writing score=91, ((math score >= 90) AND (math score <= 100))=False),\n",
       " Row(writing score=100, ((math score >= 90) AND (math score <= 100))=True),\n",
       " Row(writing score=51, ((math score >= 90) AND (math score <= 100))=False),\n",
       " Row(writing score=78, ((math score >= 90) AND (math score <= 100))=False),\n",
       " Row(writing score=78, ((math score >= 90) AND (math score <= 100))=False),\n",
       " Row(writing score=70, ((math score >= 90) AND (math score <= 100))=False),\n",
       " Row(writing score=74, ((math score >= 90) AND (math score <= 100))=False),\n",
       " Row(writing score=78, ((math score >= 90) AND (math score <= 100))=True),\n",
       " Row(writing score=81, ((math score >= 90) AND (math score <= 100))=False),\n",
       " Row(writing score=70, ((math score >= 90) AND (math score <= 100))=False),\n",
       " Row(writing score=54, ((math score >= 90) AND (math score <= 100))=False),\n",
       " Row(writing score=87, ((math score >= 90) AND (math score <= 100))=False),\n",
       " Row(writing score=58, ((math score >= 90) AND (math score <= 100))=False),\n",
       " Row(writing score=77, ((math score >= 90) AND (math score <= 100))=False),\n",
       " Row(writing score=62, ((math score >= 90) AND (math score <= 100))=False),\n",
       " Row(writing score=100, ((math score >= 90) AND (math score <= 100))=True),\n",
       " Row(writing score=75, ((math score >= 90) AND (math score <= 100))=False),\n",
       " Row(writing score=66, ((math score >= 90) AND (math score <= 100))=False),\n",
       " Row(writing score=47, ((math score >= 90) AND (math score <= 100))=False),\n",
       " Row(writing score=70, ((math score >= 90) AND (math score <= 100))=False),\n",
       " Row(writing score=49, ((math score >= 90) AND (math score <= 100))=False),\n",
       " Row(writing score=65, ((math score >= 90) AND (math score <= 100))=False),\n",
       " Row(writing score=65, ((math score >= 90) AND (math score <= 100))=False),\n",
       " Row(writing score=68, ((math score >= 90) AND (math score <= 100))=False),\n",
       " Row(writing score=45, ((math score >= 90) AND (math score <= 100))=False),\n",
       " Row(writing score=87, ((math score >= 90) AND (math score <= 100))=False),\n",
       " Row(writing score=69, ((math score >= 90) AND (math score <= 100))=False),\n",
       " Row(writing score=79, ((math score >= 90) AND (math score <= 100))=False),\n",
       " Row(writing score=66, ((math score >= 90) AND (math score <= 100))=False),\n",
       " Row(writing score=62, ((math score >= 90) AND (math score <= 100))=False),\n",
       " Row(writing score=85, ((math score >= 90) AND (math score <= 100))=False),\n",
       " Row(writing score=52, ((math score >= 90) AND (math score <= 100))=False),\n",
       " Row(writing score=65, ((math score >= 90) AND (math score <= 100))=False),\n",
       " Row(writing score=51, ((math score >= 90) AND (math score <= 100))=False),\n",
       " Row(writing score=55, ((math score >= 90) AND (math score <= 100))=False),\n",
       " Row(writing score=76, ((math score >= 90) AND (math score <= 100))=False),\n",
       " Row(writing score=86, ((math score >= 90) AND (math score <= 100))=False),\n",
       " Row(writing score=77, ((math score >= 90) AND (math score <= 100))=False),\n",
       " Row(writing score=69, ((math score >= 90) AND (math score <= 100))=False),\n",
       " Row(writing score=68, ((math score >= 90) AND (math score <= 100))=False),\n",
       " Row(writing score=42, ((math score >= 90) AND (math score <= 100))=False),\n",
       " Row(writing score=78, ((math score >= 90) AND (math score <= 100))=False),\n",
       " Row(writing score=62, ((math score >= 90) AND (math score <= 100))=False),\n",
       " Row(writing score=76, ((math score >= 90) AND (math score <= 100))=False),\n",
       " Row(writing score=76, ((math score >= 90) AND (math score <= 100))=False),\n",
       " Row(writing score=66, ((math score >= 90) AND (math score <= 100))=False),\n",
       " Row(writing score=79, ((math score >= 90) AND (math score <= 100))=False),\n",
       " Row(writing score=27, ((math score >= 90) AND (math score <= 100))=False),\n",
       " Row(writing score=60, ((math score >= 90) AND (math score <= 100))=False),\n",
       " Row(writing score=56, ((math score >= 90) AND (math score <= 100))=False),\n",
       " Row(writing score=81, ((math score >= 90) AND (math score <= 100))=False),\n",
       " Row(writing score=75, ((math score >= 90) AND (math score <= 100))=False),\n",
       " Row(writing score=88, ((math score >= 90) AND (math score <= 100))=False),\n",
       " Row(writing score=39, ((math score >= 90) AND (math score <= 100))=False),\n",
       " Row(writing score=70, ((math score >= 90) AND (math score <= 100))=False),\n",
       " Row(writing score=56, ((math score >= 90) AND (math score <= 100))=False),\n",
       " Row(writing score=74, ((math score >= 90) AND (math score <= 100))=False),\n",
       " Row(writing score=73, ((math score >= 90) AND (math score <= 100))=False),\n",
       " Row(writing score=62, ((math score >= 90) AND (math score <= 100))=False),\n",
       " Row(writing score=75, ((math score >= 90) AND (math score <= 100))=False),\n",
       " Row(writing score=73, ((math score >= 90) AND (math score <= 100))=False),\n",
       " Row(writing score=54, ((math score >= 90) AND (math score <= 100))=False),\n",
       " Row(writing score=71, ((math score >= 90) AND (math score <= 100))=False),\n",
       " Row(writing score=54, ((math score >= 90) AND (math score <= 100))=False),\n",
       " Row(writing score=64, ((math score >= 90) AND (math score <= 100))=False),\n",
       " Row(writing score=94, ((math score >= 90) AND (math score <= 100))=False),\n",
       " Row(writing score=66, ((math score >= 90) AND (math score <= 100))=False),\n",
       " Row(writing score=42, ((math score >= 90) AND (math score <= 100))=False),\n",
       " Row(writing score=83, ((math score >= 90) AND (math score <= 100))=False),\n",
       " Row(writing score=78, ((math score >= 90) AND (math score <= 100))=True),\n",
       " Row(writing score=84, ((math score >= 90) AND (math score <= 100))=False),\n",
       " Row(writing score=77, ((math score >= 90) AND (math score <= 100))=False),\n",
       " Row(writing score=67, ((math score >= 90) AND (math score <= 100))=False),\n",
       " Row(writing score=74, ((math score >= 90) AND (math score <= 100))=False),\n",
       " Row(writing score=51, ((math score >= 90) AND (math score <= 100))=False),\n",
       " Row(writing score=80, ((math score >= 90) AND (math score <= 100))=False),\n",
       " Row(writing score=66, ((math score >= 90) AND (math score <= 100))=False),\n",
       " Row(writing score=83, ((math score >= 90) AND (math score <= 100))=False),\n",
       " Row(writing score=55, ((math score >= 90) AND (math score <= 100))=False),\n",
       " Row(writing score=43, ((math score >= 90) AND (math score <= 100))=False),\n",
       " Row(writing score=69, ((math score >= 90) AND (math score <= 100))=False),\n",
       " Row(writing score=71, ((math score >= 90) AND (math score <= 100))=False),\n",
       " Row(writing score=74, ((math score >= 90) AND (math score <= 100))=False),\n",
       " Row(writing score=68, ((math score >= 90) AND (math score <= 100))=False),\n",
       " Row(writing score=62, ((math score >= 90) AND (math score <= 100))=False),\n",
       " Row(writing score=53, ((math score >= 90) AND (math score <= 100))=False),\n",
       " Row(writing score=49, ((math score >= 90) AND (math score <= 100))=False),\n",
       " Row(writing score=83, ((math score >= 90) AND (math score <= 100))=False),\n",
       " Row(writing score=70, ((math score >= 90) AND (math score <= 100))=False),\n",
       " Row(writing score=72, ((math score >= 90) AND (math score <= 100))=False),\n",
       " Row(writing score=52, ((math score >= 90) AND (math score <= 100))=False),\n",
       " Row(writing score=70, ((math score >= 90) AND (math score <= 100))=False),\n",
       " Row(writing score=68, ((math score >= 90) AND (math score <= 100))=False),\n",
       " Row(writing score=77, ((math score >= 90) AND (math score <= 100))=False),\n",
       " Row(writing score=78, ((math score >= 90) AND (math score <= 100))=False),\n",
       " Row(writing score=81, ((math score >= 90) AND (math score <= 100))=False),\n",
       " Row(writing score=77, ((math score >= 90) AND (math score <= 100))=False),\n",
       " Row(writing score=78, ((math score >= 90) AND (math score <= 100))=False),\n",
       " Row(writing score=51, ((math score >= 90) AND (math score <= 100))=False),\n",
       " Row(writing score=90, ((math score >= 90) AND (math score <= 100))=True),\n",
       " Row(writing score=68, ((math score >= 90) AND (math score <= 100))=False),\n",
       " Row(writing score=41, ((math score >= 90) AND (math score <= 100))=False),\n",
       " Row(writing score=81, ((math score >= 90) AND (math score <= 100))=False),\n",
       " Row(writing score=77, ((math score >= 90) AND (math score <= 100))=False),\n",
       " Row(writing score=95, ((math score >= 90) AND (math score <= 100))=False),\n",
       " Row(writing score=70, ((math score >= 90) AND (math score <= 100))=False),\n",
       " Row(writing score=61, ((math score >= 90) AND (math score <= 100))=False),\n",
       " Row(writing score=42, ((math score >= 90) AND (math score <= 100))=False),\n",
       " Row(writing score=58, ((math score >= 90) AND (math score <= 100))=False),\n",
       " Row(writing score=71, ((math score >= 90) AND (math score <= 100))=False),\n",
       " Row(writing score=76, ((math score >= 90) AND (math score <= 100))=False),\n",
       " Row(writing score=73, ((math score >= 90) AND (math score <= 100))=False),\n",
       " Row(writing score=93, ((math score >= 90) AND (math score <= 100))=False),\n",
       " Row(writing score=75, ((math score >= 90) AND (math score <= 100))=False),\n",
       " Row(writing score=80, ((math score >= 90) AND (math score <= 100))=False),\n",
       " Row(writing score=57, ((math score >= 90) AND (math score <= 100))=False),\n",
       " Row(writing score=42, ((math score >= 90) AND (math score <= 100))=False),\n",
       " Row(writing score=46, ((math score >= 90) AND (math score <= 100))=False),\n",
       " Row(writing score=84, ((math score >= 90) AND (math score <= 100))=False),\n",
       " Row(writing score=78, ((math score >= 90) AND (math score <= 100))=False),\n",
       " Row(writing score=46, ((math score >= 90) AND (math score <= 100))=False),\n",
       " Row(writing score=82, ((math score >= 90) AND (math score <= 100))=False),\n",
       " Row(writing score=88, ((math score >= 90) AND (math score <= 100))=True),\n",
       " Row(writing score=82, ((math score >= 90) AND (math score <= 100))=False),\n",
       " Row(writing score=76, ((math score >= 90) AND (math score <= 100))=False),\n",
       " Row(writing score=77, ((math score >= 90) AND (math score <= 100))=False),\n",
       " Row(writing score=68, ((math score >= 90) AND (math score <= 100))=False),\n",
       " Row(writing score=70, ((math score >= 90) AND (math score <= 100))=False),\n",
       " Row(writing score=57, ((math score >= 90) AND (math score <= 100))=False),\n",
       " Row(writing score=75, ((math score >= 90) AND (math score <= 100))=False),\n",
       " Row(writing score=80, ((math score >= 90) AND (math score <= 100))=False),\n",
       " Row(writing score=60, ((math score >= 90) AND (math score <= 100))=False),\n",
       " Row(writing score=43, ((math score >= 90) AND (math score <= 100))=False),\n",
       " Row(writing score=68, ((math score >= 90) AND (math score <= 100))=False),\n",
       " Row(writing score=50, ((math score >= 90) AND (math score <= 100))=False),\n",
       " Row(writing score=75, ((math score >= 90) AND (math score <= 100))=True),\n",
       " Row(writing score=81, ((math score >= 90) AND (math score <= 100))=False),\n",
       " Row(writing score=52, ((math score >= 90) AND (math score <= 100))=False),\n",
       " Row(writing score=81, ((math score >= 90) AND (math score <= 100))=False),\n",
       " Row(writing score=64, ((math score >= 90) AND (math score <= 100))=False),\n",
       " Row(writing score=83, ((math score >= 90) AND (math score <= 100))=False),\n",
       " Row(writing score=69, ((math score >= 90) AND (math score <= 100))=False),\n",
       " Row(writing score=81, ((math score >= 90) AND (math score <= 100))=True),\n",
       " Row(writing score=44, ((math score >= 90) AND (math score <= 100))=False),\n",
       " Row(writing score=67, ((math score >= 90) AND (math score <= 100))=False),\n",
       " Row(writing score=52, ((math score >= 90) AND (math score <= 100))=False),\n",
       " Row(writing score=80, ((math score >= 90) AND (math score <= 100))=False),\n",
       " Row(writing score=57, ((math score >= 90) AND (math score <= 100))=False),\n",
       " Row(writing score=68, ((math score >= 90) AND (math score <= 100))=False),\n",
       " Row(writing score=69, ((math score >= 90) AND (math score <= 100))=False),\n",
       " Row(writing score=75, ((math score >= 90) AND (math score <= 100))=False),\n",
       " Row(writing score=65, ((math score >= 90) AND (math score <= 100))=False),\n",
       " Row(writing score=91, ((math score >= 90) AND (math score <= 100))=False),\n",
       " Row(writing score=78, ((math score >= 90) AND (math score <= 100))=False),\n",
       " Row(writing score=69, ((math score >= 90) AND (math score <= 100))=False),\n",
       " Row(writing score=63, ((math score >= 90) AND (math score <= 100))=False),\n",
       " Row(writing score=84, ((math score >= 90) AND (math score <= 100))=False),\n",
       " Row(writing score=79, ((math score >= 90) AND (math score <= 100))=False),\n",
       " Row(writing score=80, ((math score >= 90) AND (math score <= 100))=False),\n",
       " Row(writing score=53, ((math score >= 90) AND (math score <= 100))=False),\n",
       " Row(writing score=43, ((math score >= 90) AND (math score <= 100))=False),\n",
       " Row(writing score=94, ((math score >= 90) AND (math score <= 100))=False),\n",
       " Row(writing score=62, ((math score >= 90) AND (math score <= 100))=False),\n",
       " Row(writing score=19, ((math score >= 90) AND (math score <= 100))=False),\n",
       " Row(writing score=77, ((math score >= 90) AND (math score <= 100))=False),\n",
       " Row(writing score=51, ((math score >= 90) AND (math score <= 100))=False),\n",
       " Row(writing score=61, ((math score >= 90) AND (math score <= 100))=False),\n",
       " Row(writing score=35, ((math score >= 90) AND (math score <= 100))=False),\n",
       " Row(writing score=53, ((math score >= 90) AND (math score <= 100))=False),\n",
       " Row(writing score=81, ((math score >= 90) AND (math score <= 100))=True),\n",
       " Row(writing score=95, ((math score >= 90) AND (math score <= 100))=False),\n",
       " Row(writing score=66, ((math score >= 90) AND (math score <= 100))=False),\n",
       " Row(writing score=69, ((math score >= 90) AND (math score <= 100))=False),\n",
       " Row(writing score=43, ((math score >= 90) AND (math score <= 100))=False),\n",
       " Row(writing score=27, ((math score >= 90) AND (math score <= 100))=False),\n",
       " Row(writing score=60, ((math score >= 90) AND (math score <= 100))=False),\n",
       " Row(writing score=52, ((math score >= 90) AND (math score <= 100))=False),\n",
       " Row(writing score=63, ((math score >= 90) AND (math score <= 100))=False),\n",
       " Row(writing score=74, ((math score >= 90) AND (math score <= 100))=False),\n",
       " Row(writing score=67, ((math score >= 90) AND (math score <= 100))=False),\n",
       " Row(writing score=67, ((math score >= 90) AND (math score <= 100))=False),\n",
       " Row(writing score=75, ((math score >= 90) AND (math score <= 100))=False),\n",
       " Row(writing score=57, ((math score >= 90) AND (math score <= 100))=False),\n",
       " Row(writing score=95, ((math score >= 90) AND (math score <= 100))=False),\n",
       " Row(writing score=66, ((math score >= 90) AND (math score <= 100))=False),\n",
       " Row(writing score=76, ((math score >= 90) AND (math score <= 100))=False),\n",
       " Row(writing score=69, ((math score >= 90) AND (math score <= 100))=False),\n",
       " Row(writing score=52, ((math score >= 90) AND (math score <= 100))=False),\n",
       " Row(writing score=80, ((math score >= 90) AND (math score <= 100))=False),\n",
       " Row(writing score=57, ((math score >= 90) AND (math score <= 100))=False),\n",
       " Row(writing score=70, ((math score >= 90) AND (math score <= 100))=False),\n",
       " Row(writing score=70, ((math score >= 90) AND (math score <= 100))=False),\n",
       " Row(writing score=61, ((math score >= 90) AND (math score <= 100))=False),\n",
       " Row(writing score=69, ((math score >= 90) AND (math score <= 100))=False),\n",
       " Row(writing score=61, ((math score >= 90) AND (math score <= 100))=False),\n",
       " Row(writing score=89, ((math score >= 90) AND (math score <= 100))=False),\n",
       " Row(writing score=59, ((math score >= 90) AND (math score <= 100))=False),\n",
       " Row(writing score=78, ((math score >= 90) AND (math score <= 100))=False),\n",
       " Row(writing score=58, ((math score >= 90) AND (math score <= 100))=False),\n",
       " Row(writing score=32, ((math score >= 90) AND (math score <= 100))=False),\n",
       " Row(writing score=58, ((math score >= 90) AND (math score <= 100))=False),\n",
       " Row(writing score=60, ((math score >= 90) AND (math score <= 100))=False),\n",
       " Row(writing score=53, ((math score >= 90) AND (math score <= 100))=False),\n",
       " Row(writing score=61, ((math score >= 90) AND (math score <= 100))=False),\n",
       " Row(writing score=58, ((math score >= 90) AND (math score <= 100))=False),\n",
       " Row(writing score=85, ((math score >= 90) AND (math score <= 100))=False),\n",
       " Row(writing score=71, ((math score >= 90) AND (math score <= 100))=False),\n",
       " Row(writing score=70, ((math score >= 90) AND (math score <= 100))=False),\n",
       " Row(writing score=72, ((math score >= 90) AND (math score <= 100))=False),\n",
       " Row(writing score=96, ((math score >= 90) AND (math score <= 100))=False),\n",
       " Row(writing score=73, ((math score >= 90) AND (math score <= 100))=False),\n",
       " Row(writing score=41, ((math score >= 90) AND (math score <= 100))=False),\n",
       " Row(writing score=82, ((math score >= 90) AND (math score <= 100))=False),\n",
       " Row(writing score=100, ((math score >= 90) AND (math score <= 100))=False),\n",
       " Row(writing score=77, ((math score >= 90) AND (math score <= 100))=False),\n",
       " Row(writing score=62, ((math score >= 90) AND (math score <= 100))=False),\n",
       " Row(writing score=83, ((math score >= 90) AND (math score <= 100))=False),\n",
       " Row(writing score=95, ((math score >= 90) AND (math score <= 100))=False),\n",
       " Row(writing score=71, ((math score >= 90) AND (math score <= 100))=False),\n",
       " Row(writing score=45, ((math score >= 90) AND (math score <= 100))=False),\n",
       " Row(writing score=43, ((math score >= 90) AND (math score <= 100))=False),\n",
       " Row(writing score=75, ((math score >= 90) AND (math score <= 100))=False),\n",
       " Row(writing score=70, ((math score >= 90) AND (math score <= 100))=False),\n",
       " Row(writing score=67, ((math score >= 90) AND (math score <= 100))=False),\n",
       " Row(writing score=64, ((math score >= 90) AND (math score <= 100))=False),\n",
       " Row(writing score=75, ((math score >= 90) AND (math score <= 100))=False),\n",
       " Row(writing score=59, ((math score >= 90) AND (math score <= 100))=False),\n",
       " Row(writing score=77, ((math score >= 90) AND (math score <= 100))=False),\n",
       " Row(writing score=67, ((math score >= 90) AND (math score <= 100))=False),\n",
       " Row(writing score=56, ((math score >= 90) AND (math score <= 100))=False),\n",
       " Row(writing score=77, ((math score >= 90) AND (math score <= 100))=False),\n",
       " Row(writing score=41, ((math score >= 90) AND (math score <= 100))=False),\n",
       " Row(writing score=63, ((math score >= 90) AND (math score <= 100))=False),\n",
       " Row(writing score=95, ((math score >= 90) AND (math score <= 100))=False),\n",
       " Row(writing score=57, ((math score >= 90) AND (math score <= 100))=False),\n",
       " Row(writing score=54, ((math score >= 90) AND (math score <= 100))=False),\n",
       " Row(writing score=67, ((math score >= 90) AND (math score <= 100))=False),\n",
       " Row(writing score=43, ((math score >= 90) AND (math score <= 100))=False),\n",
       " Row(writing score=55, ((math score >= 90) AND (math score <= 100))=False),\n",
       " Row(writing score=100, ((math score >= 90) AND (math score <= 100))=False),\n",
       " Row(writing score=62, ((math score >= 90) AND (math score <= 100))=False),\n",
       " Row(writing score=68, ((math score >= 90) AND (math score <= 100))=False),\n",
       " Row(writing score=63, ((math score >= 90) AND (math score <= 100))=False),\n",
       " Row(writing score=77, ((math score >= 90) AND (math score <= 100))=False),\n",
       " Row(writing score=56, ((math score >= 90) AND (math score <= 100))=False),\n",
       " Row(writing score=85, ((math score >= 90) AND (math score <= 100))=False),\n",
       " Row(writing score=74, ((math score >= 90) AND (math score <= 100))=False),\n",
       " Row(writing score=78, ((math score >= 90) AND (math score <= 100))=False),\n",
       " Row(writing score=60, ((math score >= 90) AND (math score <= 100))=False),\n",
       " Row(writing score=67, ((math score >= 90) AND (math score <= 100))=False),\n",
       " Row(writing score=79, ((math score >= 90) AND (math score <= 100))=False),\n",
       " Row(writing score=69, ((math score >= 90) AND (math score <= 100))=False),\n",
       " Row(writing score=68, ((math score >= 90) AND (math score <= 100))=False),\n",
       " Row(writing score=67, ((math score >= 90) AND (math score <= 100))=False),\n",
       " Row(writing score=62, ((math score >= 90) AND (math score <= 100))=False),\n",
       " Row(writing score=54, ((math score >= 90) AND (math score <= 100))=False),\n",
       " Row(writing score=93, ((math score >= 90) AND (math score <= 100))=False),\n",
       " Row(writing score=64, ((math score >= 90) AND (math score <= 100))=False),\n",
       " Row(writing score=67, ((math score >= 90) AND (math score <= 100))=False),\n",
       " Row(writing score=80, ((math score >= 90) AND (math score <= 100))=False),\n",
       " Row(writing score=34, ((math score >= 90) AND (math score <= 100))=False),\n",
       " Row(writing score=62, ((math score >= 90) AND (math score <= 100))=False),\n",
       " Row(writing score=86, ((math score >= 90) AND (math score <= 100))=False),\n",
       " Row(writing score=65, ((math score >= 90) AND (math score <= 100))=False),\n",
       " Row(writing score=53, ((math score >= 90) AND (math score <= 100))=False),\n",
       " Row(writing score=54, ((math score >= 90) AND (math score <= 100))=False),\n",
       " Row(writing score=59, ((math score >= 90) AND (math score <= 100))=False),\n",
       " Row(writing score=70, ((math score >= 90) AND (math score <= 100))=False),\n",
       " Row(writing score=55, ((math score >= 90) AND (math score <= 100))=False),\n",
       " Row(writing score=50, ((math score >= 90) AND (math score <= 100))=False),\n",
       " Row(writing score=66, ((math score >= 90) AND (math score <= 100))=False),\n",
       " Row(writing score=53, ((math score >= 90) AND (math score <= 100))=False),\n",
       " Row(writing score=64, ((math score >= 90) AND (math score <= 100))=False),\n",
       " Row(writing score=73, ((math score >= 90) AND (math score <= 100))=False),\n",
       " Row(writing score=51, ((math score >= 90) AND (math score <= 100))=False),\n",
       " Row(writing score=82, ((math score >= 90) AND (math score <= 100))=False),\n",
       " Row(writing score=79, ((math score >= 90) AND (math score <= 100))=False),\n",
       " Row(writing score=80, ((math score >= 90) AND (math score <= 100))=False),\n",
       " Row(writing score=69, ((math score >= 90) AND (math score <= 100))=False),\n",
       " Row(writing score=76, ((math score >= 90) AND (math score <= 100))=False),\n",
       " Row(writing score=73, ((math score >= 90) AND (math score <= 100))=False),\n",
       " Row(writing score=77, ((math score >= 90) AND (math score <= 100))=False),\n",
       " Row(writing score=60, ((math score >= 90) AND (math score <= 100))=False),\n",
       " Row(writing score=80, ((math score >= 90) AND (math score <= 100))=False),\n",
       " Row(writing score=42, ((math score >= 90) AND (math score <= 100))=False),\n",
       " Row(writing score=72, ((math score >= 90) AND (math score <= 100))=False),\n",
       " Row(writing score=85, ((math score >= 90) AND (math score <= 100))=False),\n",
       " Row(writing score=97, ((math score >= 90) AND (math score <= 100))=True),\n",
       " Row(writing score=74, ((math score >= 90) AND (math score <= 100))=False),\n",
       " Row(writing score=49, ((math score >= 90) AND (math score <= 100))=False),\n",
       " Row(writing score=62, ((math score >= 90) AND (math score <= 100))=False),\n",
       " Row(writing score=47, ((math score >= 90) AND (math score <= 100))=False),\n",
       " Row(writing score=89, ((math score >= 90) AND (math score <= 100))=False),\n",
       " Row(writing score=48, ((math score >= 90) AND (math score <= 100))=False),\n",
       " Row(writing score=100, ((math score >= 90) AND (math score <= 100))=True),\n",
       " Row(writing score=68, ((math score >= 90) AND (math score <= 100))=False),\n",
       " Row(writing score=55, ((math score >= 90) AND (math score <= 100))=False),\n",
       " Row(writing score=45, ((math score >= 90) AND (math score <= 100))=False),\n",
       " Row(writing score=76, ((math score >= 90) AND (math score <= 100))=False),\n",
       " Row(writing score=91, ((math score >= 90) AND (math score <= 100))=False),\n",
       " Row(writing score=62, ((math score >= 90) AND (math score <= 100))=False),\n",
       " Row(writing score=91, ((math score >= 90) AND (math score <= 100))=False),\n",
       " Row(writing score=38, ((math score >= 90) AND (math score <= 100))=False),\n",
       " Row(writing score=65, ((math score >= 90) AND (math score <= 100))=False),\n",
       " Row(writing score=85, ((math score >= 90) AND (math score <= 100))=False),\n",
       " Row(writing score=76, ((math score >= 90) AND (math score <= 100))=True),\n",
       " Row(writing score=90, ((math score >= 90) AND (math score <= 100))=False),\n",
       " Row(writing score=74, ((math score >= 90) AND (math score <= 100))=False),\n",
       " Row(writing score=84, ((math score >= 90) AND (math score <= 100))=False),\n",
       " Row(writing score=61, ((math score >= 90) AND (math score <= 100))=False),\n",
       " Row(writing score=91, ((math score >= 90) AND (math score <= 100))=True),\n",
       " Row(writing score=83, ((math score >= 90) AND (math score <= 100))=False),\n",
       " Row(writing score=66, ((math score >= 90) AND (math score <= 100))=False),\n",
       " Row(writing score=72, ((math score >= 90) AND (math score <= 100))=False),\n",
       " Row(writing score=70, ((math score >= 90) AND (math score <= 100))=False),\n",
       " Row(writing score=67, ((math score >= 90) AND (math score <= 100))=False),\n",
       " Row(writing score=68, ((math score >= 90) AND (math score <= 100))=False),\n",
       " Row(writing score=56, ((math score >= 90) AND (math score <= 100))=False),\n",
       " Row(writing score=61, ((math score >= 90) AND (math score <= 100))=False),\n",
       " Row(writing score=46, ((math score >= 90) AND (math score <= 100))=False),\n",
       " Row(writing score=54, ((math score >= 90) AND (math score <= 100))=False),\n",
       " Row(writing score=71, ((math score >= 90) AND (math score <= 100))=False),\n",
       " Row(writing score=56, ((math score >= 90) AND (math score <= 100))=False),\n",
       " Row(writing score=74, ((math score >= 90) AND (math score <= 100))=False),\n",
       " Row(writing score=57, ((math score >= 90) AND (math score <= 100))=False),\n",
       " Row(writing score=82, ((math score >= 90) AND (math score <= 100))=False),\n",
       " Row(writing score=76, ((math score >= 90) AND (math score <= 100))=False),\n",
       " Row(writing score=70, ((math score >= 90) AND (math score <= 100))=False),\n",
       " Row(writing score=90, ((math score >= 90) AND (math score <= 100))=False),\n",
       " Row(writing score=90, ((math score >= 90) AND (math score <= 100))=False),\n",
       " Row(writing score=68, ((math score >= 90) AND (math score <= 100))=False),\n",
       " Row(writing score=66, ((math score >= 90) AND (math score <= 100))=False),\n",
       " Row(writing score=52, ((math score >= 90) AND (math score <= 100))=False),\n",
       " Row(writing score=76, ((math score >= 90) AND (math score <= 100))=False),\n",
       " Row(writing score=68, ((math score >= 90) AND (math score <= 100))=False),\n",
       " Row(writing score=72, ((math score >= 90) AND (math score <= 100))=False),\n",
       " Row(writing score=82, ((math score >= 90) AND (math score <= 100))=False),\n",
       " Row(writing score=92, ((math score >= 90) AND (math score <= 100))=True),\n",
       " Row(writing score=54, ((math score >= 90) AND (math score <= 100))=False),\n",
       " Row(writing score=92, ((math score >= 90) AND (math score <= 100))=True),\n",
       " Row(writing score=54, ((math score >= 90) AND (math score <= 100))=False),\n",
       " Row(writing score=80, ((math score >= 90) AND (math score <= 100))=False),\n",
       " Row(writing score=66, ((math score >= 90) AND (math score <= 100))=False),\n",
       " Row(writing score=54, ((math score >= 90) AND (math score <= 100))=False),\n",
       " Row(writing score=77, ((math score >= 90) AND (math score <= 100))=False),\n",
       " Row(writing score=87, ((math score >= 90) AND (math score <= 100))=False),\n",
       " Row(writing score=73, ((math score >= 90) AND (math score <= 100))=False),\n",
       " Row(writing score=43, ((math score >= 90) AND (math score <= 100))=False),\n",
       " Row(writing score=52, ((math score >= 90) AND (math score <= 100))=False),\n",
       " Row(writing score=62, ((math score >= 90) AND (math score <= 100))=False),\n",
       " Row(writing score=94, ((math score >= 90) AND (math score <= 100))=False),\n",
       " Row(writing score=85, ((math score >= 90) AND (math score <= 100))=False),\n",
       " Row(writing score=84, ((math score >= 90) AND (math score <= 100))=False),\n",
       " Row(writing score=73, ((math score >= 90) AND (math score <= 100))=False),\n",
       " Row(writing score=78, ((math score >= 90) AND (math score <= 100))=False),\n",
       " Row(writing score=79, ((math score >= 90) AND (math score <= 100))=False),\n",
       " Row(writing score=52, ((math score >= 90) AND (math score <= 100))=False),\n",
       " Row(writing score=84, ((math score >= 90) AND (math score <= 100))=True),\n",
       " Row(writing score=57, ((math score >= 90) AND (math score <= 100))=False),\n",
       " Row(writing score=50, ((math score >= 90) AND (math score <= 100))=False),\n",
       " Row(writing score=49, ((math score >= 90) AND (math score <= 100))=False),\n",
       " Row(writing score=59, ((math score >= 90) AND (math score <= 100))=False),\n",
       " Row(writing score=60, ((math score >= 90) AND (math score <= 100))=False),\n",
       " Row(writing score=43, ((math score >= 90) AND (math score <= 100))=False),\n",
       " Row(writing score=47, ((math score >= 90) AND (math score <= 100))=False),\n",
       " Row(writing score=70, ((math score >= 90) AND (math score <= 100))=False),\n",
       " Row(writing score=73, ((math score >= 90) AND (math score <= 100))=False),\n",
       " Row(writing score=53, ((math score >= 90) AND (math score <= 100))=False),\n",
       " Row(writing score=58, ((math score >= 90) AND (math score <= 100))=False),\n",
       " Row(writing score=94, ((math score >= 90) AND (math score <= 100))=False),\n",
       " Row(writing score=68, ((math score >= 90) AND (math score <= 100))=False),\n",
       " Row(writing score=83, ((math score >= 90) AND (math score <= 100))=False),\n",
       " Row(writing score=58, ((math score >= 90) AND (math score <= 100))=False),\n",
       " Row(writing score=62, ((math score >= 90) AND (math score <= 100))=False),\n",
       " Row(writing score=71, ((math score >= 90) AND (math score <= 100))=False),\n",
       " Row(writing score=86, ((math score >= 90) AND (math score <= 100))=True),\n",
       " Row(writing score=68, ((math score >= 90) AND (math score <= 100))=False),\n",
       " Row(writing score=80, ((math score >= 90) AND (math score <= 100))=False),\n",
       " Row(writing score=79, ((math score >= 90) AND (math score <= 100))=False),\n",
       " Row(writing score=89, ((math score >= 90) AND (math score <= 100))=False),\n",
       " Row(writing score=66, ((math score >= 90) AND (math score <= 100))=False),\n",
       " Row(writing score=80, ((math score >= 90) AND (math score <= 100))=False),\n",
       " Row(writing score=97, ((math score >= 90) AND (math score <= 100))=True),\n",
       " Row(writing score=64, ((math score >= 90) AND (math score <= 100))=False),\n",
       " Row(writing score=64, ((math score >= 90) AND (math score <= 100))=False),\n",
       " Row(writing score=69, ((math score >= 90) AND (math score <= 100))=False),\n",
       " Row(writing score=65, ((math score >= 90) AND (math score <= 100))=False),\n",
       " Row(writing score=88, ((math score >= 90) AND (math score <= 100))=False),\n",
       " Row(writing score=50, ((math score >= 90) AND (math score <= 100))=False),\n",
       " Row(writing score=64, ((math score >= 90) AND (math score <= 100))=False),\n",
       " Row(writing score=40, ((math score >= 90) AND (math score <= 100))=False),\n",
       " Row(writing score=33, ((math score >= 90) AND (math score <= 100))=False),\n",
       " Row(writing score=79, ((math score >= 90) AND (math score <= 100))=False),\n",
       " Row(writing score=66, ((math score >= 90) AND (math score <= 100))=False),\n",
       " Row(writing score=70, ((math score >= 90) AND (math score <= 100))=False),\n",
       " Row(writing score=62, ((math score >= 90) AND (math score <= 100))=False),\n",
       " Row(writing score=79, ((math score >= 90) AND (math score <= 100))=False),\n",
       " Row(writing score=74, ((math score >= 90) AND (math score <= 100))=False),\n",
       " Row(writing score=92, ((math score >= 90) AND (math score <= 100))=True),\n",
       " Row(writing score=80, ((math score >= 90) AND (math score <= 100))=False),\n",
       " Row(writing score=46, ((math score >= 90) AND (math score <= 100))=False),\n",
       " Row(writing score=45, ((math score >= 90) AND (math score <= 100))=False),\n",
       " Row(writing score=100, ((math score >= 90) AND (math score <= 100))=True),\n",
       " Row(writing score=78, ((math score >= 90) AND (math score <= 100))=False),\n",
       " Row(writing score=47, ((math score >= 90) AND (math score <= 100))=False),\n",
       " Row(writing score=67, ((math score >= 90) AND (math score <= 100))=False),\n",
       " Row(writing score=70, ((math score >= 90) AND (math score <= 100))=False),\n",
       " Row(writing score=92, ((math score >= 90) AND (math score <= 100))=True),\n",
       " Row(writing score=56, ((math score >= 90) AND (math score <= 100))=False),\n",
       " Row(writing score=64, ((math score >= 90) AND (math score <= 100))=False),\n",
       " Row(writing score=71, ((math score >= 90) AND (math score <= 100))=False),\n",
       " Row(writing score=53, ((math score >= 90) AND (math score <= 100))=False),\n",
       " Row(writing score=52, ((math score >= 90) AND (math score <= 100))=False),\n",
       " Row(writing score=89, ((math score >= 90) AND (math score <= 100))=False),\n",
       " Row(writing score=58, ((math score >= 90) AND (math score <= 100))=False),\n",
       " Row(writing score=68, ((math score >= 90) AND (math score <= 100))=False),\n",
       " Row(writing score=96, ((math score >= 90) AND (math score <= 100))=False),\n",
       " Row(writing score=80, ((math score >= 90) AND (math score <= 100))=False),\n",
       " Row(writing score=78, ((math score >= 90) AND (math score <= 100))=False),\n",
       " Row(writing score=80, ((math score >= 90) AND (math score <= 100))=False),\n",
       " Row(writing score=77, ((math score >= 90) AND (math score <= 100))=False),\n",
       " Row(writing score=76, ((math score >= 90) AND (math score <= 100))=False),\n",
       " Row(writing score=73, ((math score >= 90) AND (math score <= 100))=False),\n",
       " Row(writing score=62, ((math score >= 90) AND (math score <= 100))=False),\n",
       " Row(writing score=65, ((math score >= 90) AND (math score <= 100))=False),\n",
       " Row(writing score=65, ((math score >= 90) AND (math score <= 100))=False),\n",
       " Row(writing score=54, ((math score >= 90) AND (math score <= 100))=False),\n",
       " Row(writing score=50, ((math score >= 90) AND (math score <= 100))=False),\n",
       " Row(writing score=64, ((math score >= 90) AND (math score <= 100))=False),\n",
       " Row(writing score=73, ((math score >= 90) AND (math score <= 100))=False),\n",
       " Row(writing score=99, ((math score >= 90) AND (math score <= 100))=True),\n",
       " Row(writing score=72, ((math score >= 90) AND (math score <= 100))=False),\n",
       " Row(writing score=15, ((math score >= 90) AND (math score <= 100))=False),\n",
       " Row(writing score=48, ((math score >= 90) AND (math score <= 100))=False),\n",
       " Row(writing score=73, ((math score >= 90) AND (math score <= 100))=False),\n",
       " Row(writing score=81, ((math score >= 90) AND (math score <= 100))=False),\n",
       " Row(writing score=63, ((math score >= 90) AND (math score <= 100))=False),\n",
       " Row(writing score=30, ((math score >= 90) AND (math score <= 100))=False),\n",
       " Row(writing score=80, ((math score >= 90) AND (math score <= 100))=False),\n",
       " Row(writing score=51, ((math score >= 90) AND (math score <= 100))=False),\n",
       " Row(writing score=90, ((math score >= 90) AND (math score <= 100))=False),\n",
       " Row(writing score=62, ((math score >= 90) AND (math score <= 100))=False),\n",
       " Row(writing score=82, ((math score >= 90) AND (math score <= 100))=False),\n",
       " Row(writing score=54, ((math score >= 90) AND (math score <= 100))=False),\n",
       " Row(writing score=62, ((math score >= 90) AND (math score <= 100))=False),\n",
       " Row(writing score=65, ((math score >= 90) AND (math score <= 100))=False),\n",
       " Row(writing score=63, ((math score >= 90) AND (math score <= 100))=False),\n",
       " Row(writing score=66, ((math score >= 90) AND (math score <= 100))=False),\n",
       " Row(writing score=91, ((math score >= 90) AND (math score <= 100))=True),\n",
       " Row(writing score=74, ((math score >= 90) AND (math score <= 100))=False),\n",
       " Row(writing score=93, ((math score >= 90) AND (math score <= 100))=False),\n",
       " Row(writing score=72, ((math score >= 90) AND (math score <= 100))=False),\n",
       " Row(writing score=38, ((math score >= 90) AND (math score <= 100))=False),\n",
       " Row(writing score=83, ((math score >= 90) AND (math score <= 100))=False),\n",
       " Row(writing score=84, ((math score >= 90) AND (math score <= 100))=True),\n",
       " Row(writing score=68, ((math score >= 90) AND (math score <= 100))=False),\n",
       " Row(writing score=54, ((math score >= 90) AND (math score <= 100))=False),\n",
       " Row(writing score=56, ((math score >= 90) AND (math score <= 100))=False),\n",
       " Row(writing score=52, ((math score >= 90) AND (math score <= 100))=False),\n",
       " Row(writing score=86, ((math score >= 90) AND (math score <= 100))=True),\n",
       " Row(writing score=62, ((math score >= 90) AND (math score <= 100))=False),\n",
       " Row(writing score=99, ((math score >= 90) AND (math score <= 100))=True),\n",
       " Row(writing score=63, ((math score >= 90) AND (math score <= 100))=False),\n",
       " Row(writing score=46, ((math score >= 90) AND (math score <= 100))=False),\n",
       " Row(writing score=46, ((math score >= 90) AND (math score <= 100))=False),\n",
       " Row(writing score=55, ((math score >= 90) AND (math score <= 100))=False),\n",
       " Row(writing score=70, ((math score >= 90) AND (math score <= 100))=False),\n",
       " Row(writing score=65, ((math score >= 90) AND (math score <= 100))=False),\n",
       " Row(writing score=81, ((math score >= 90) AND (math score <= 100))=False),\n",
       " Row(writing score=85, ((math score >= 90) AND (math score <= 100))=False),\n",
       " Row(writing score=80, ((math score >= 90) AND (math score <= 100))=False),\n",
       " Row(writing score=64, ((math score >= 90) AND (math score <= 100))=False),\n",
       " Row(writing score=81, ((math score >= 90) AND (math score <= 100))=False),\n",
       " Row(writing score=88, ((math score >= 90) AND (math score <= 100))=False),\n",
       " Row(writing score=74, ((math score >= 90) AND (math score <= 100))=False),\n",
       " Row(writing score=73, ((math score >= 90) AND (math score <= 100))=False),\n",
       " Row(writing score=51, ((math score >= 90) AND (math score <= 100))=False),\n",
       " Row(writing score=90, ((math score >= 90) AND (math score <= 100))=False),\n",
       " Row(writing score=79, ((math score >= 90) AND (math score <= 100))=False),\n",
       " Row(writing score=80, ((math score >= 90) AND (math score <= 100))=False),\n",
       " Row(writing score=60, ((math score >= 90) AND (math score <= 100))=False),\n",
       " Row(writing score=81, ((math score >= 90) AND (math score <= 100))=False),\n",
       " Row(writing score=65, ((math score >= 90) AND (math score <= 100))=False),\n",
       " Row(writing score=68, ((math score >= 90) AND (math score <= 100))=False),\n",
       " Row(writing score=55, ((math score >= 90) AND (math score <= 100))=False),\n",
       " Row(writing score=81, ((math score >= 90) AND (math score <= 100))=False),\n",
       " Row(writing score=53, ((math score >= 90) AND (math score <= 100))=False),\n",
       " Row(writing score=76, ((math score >= 90) AND (math score <= 100))=False),\n",
       " Row(writing score=98, ((math score >= 90) AND (math score <= 100))=False),\n",
       " Row(writing score=74, ((math score >= 90) AND (math score <= 100))=False),\n",
       " Row(writing score=79, ((math score >= 90) AND (math score <= 100))=False),\n",
       " Row(writing score=67, ((math score >= 90) AND (math score <= 100))=False),\n",
       " Row(writing score=64, ((math score >= 90) AND (math score <= 100))=False),\n",
       " Row(writing score=61, ((math score >= 90) AND (math score <= 100))=False),\n",
       " Row(writing score=58, ((math score >= 90) AND (math score <= 100))=False),\n",
       " Row(writing score=85, ((math score >= 90) AND (math score <= 100))=True),\n",
       " Row(writing score=73, ((math score >= 90) AND (math score <= 100))=False),\n",
       " Row(writing score=63, ((math score >= 90) AND (math score <= 100))=False),\n",
       " Row(writing score=69, ((math score >= 90) AND (math score <= 100))=False),\n",
       " Row(writing score=67, ((math score >= 90) AND (math score <= 100))=False),\n",
       " Row(writing score=63, ((math score >= 90) AND (math score <= 100))=False),\n",
       " Row(writing score=60, ((math score >= 90) AND (math score <= 100))=False),\n",
       " Row(writing score=71, ((math score >= 90) AND (math score <= 100))=False),\n",
       " Row(writing score=87, ((math score >= 90) AND (math score <= 100))=False),\n",
       " Row(writing score=61, ((math score >= 90) AND (math score <= 100))=False),\n",
       " Row(writing score=77, ((math score >= 90) AND (math score <= 100))=False),\n",
       " Row(writing score=68, ((math score >= 90) AND (math score <= 100))=False),\n",
       " Row(writing score=50, ((math score >= 90) AND (math score <= 100))=False),\n",
       " Row(writing score=76, ((math score >= 90) AND (math score <= 100))=False),\n",
       " Row(writing score=84, ((math score >= 90) AND (math score <= 100))=False),\n",
       " Row(writing score=78, ((math score >= 90) AND (math score <= 100))=False),\n",
       " Row(writing score=66, ((math score >= 90) AND (math score <= 100))=False),\n",
       " Row(writing score=76, ((math score >= 90) AND (math score <= 100))=False),\n",
       " Row(writing score=76, ((math score >= 90) AND (math score <= 100))=False),\n",
       " Row(writing score=78, ((math score >= 90) AND (math score <= 100))=False),\n",
       " Row(writing score=60, ((math score >= 90) AND (math score <= 100))=False),\n",
       " Row(writing score=74, ((math score >= 90) AND (math score <= 100))=False),\n",
       " Row(writing score=60, ((math score >= 90) AND (math score <= 100))=False),\n",
       " Row(writing score=54, ((math score >= 90) AND (math score <= 100))=False),\n",
       " Row(writing score=44, ((math score >= 90) AND (math score <= 100))=False),\n",
       " Row(writing score=68, ((math score >= 90) AND (math score <= 100))=False),\n",
       " Row(writing score=100, ((math score >= 90) AND (math score <= 100))=True),\n",
       " Row(writing score=68, ((math score >= 90) AND (math score <= 100))=False),\n",
       " Row(writing score=73, ((math score >= 90) AND (math score <= 100))=False),\n",
       " Row(writing score=44, ((math score >= 90) AND (math score <= 100))=False),\n",
       " Row(writing score=83, ((math score >= 90) AND (math score <= 100))=True),\n",
       " Row(writing score=53, ((math score >= 90) AND (math score <= 100))=False),\n",
       " Row(writing score=78, ((math score >= 90) AND (math score <= 100))=False),\n",
       " Row(writing score=81, ((math score >= 90) AND (math score <= 100))=False),\n",
       " Row(writing score=73, ((math score >= 90) AND (math score <= 100))=False),\n",
       " Row(writing score=56, ((math score >= 90) AND (math score <= 100))=False),\n",
       " Row(writing score=86, ((math score >= 90) AND (math score <= 100))=False),\n",
       " Row(writing score=90, ((math score >= 90) AND (math score <= 100))=False),\n",
       " Row(writing score=70, ((math score >= 90) AND (math score <= 100))=False),\n",
       " Row(writing score=79, ((math score >= 90) AND (math score <= 100))=False),\n",
       " Row(writing score=59, ((math score >= 90) AND (math score <= 100))=False),\n",
       " Row(writing score=82, ((math score >= 90) AND (math score <= 100))=False),\n",
       " Row(writing score=72, ((math score >= 90) AND (math score <= 100))=False),\n",
       " Row(writing score=87, ((math score >= 90) AND (math score <= 100))=False),\n",
       " Row(writing score=67, ((math score >= 90) AND (math score <= 100))=False),\n",
       " Row(writing score=64, ((math score >= 90) AND (math score <= 100))=False),\n",
       " Row(writing score=65, ((math score >= 90) AND (math score <= 100))=False),\n",
       " Row(writing score=36, ((math score >= 90) AND (math score <= 100))=False),\n",
       " Row(writing score=52, ((math score >= 90) AND (math score <= 100))=False),\n",
       " Row(writing score=79, ((math score >= 90) AND (math score <= 100))=False),\n",
       " Row(writing score=58, ((math score >= 90) AND (math score <= 100))=False),\n",
       " Row(writing score=90, ((math score >= 90) AND (math score <= 100))=True),\n",
       " Row(writing score=85, ((math score >= 90) AND (math score <= 100))=False),\n",
       " Row(writing score=99, ((math score >= 90) AND (math score <= 100))=True),\n",
       " Row(writing score=84, ((math score >= 90) AND (math score <= 100))=False),\n",
       " Row(writing score=74, ((math score >= 90) AND (math score <= 100))=False),\n",
       " Row(writing score=87, ((math score >= 90) AND (math score <= 100))=False),\n",
       " Row(writing score=72, ((math score >= 90) AND (math score <= 100))=False),\n",
       " Row(writing score=99, ((math score >= 90) AND (math score <= 100))=True),\n",
       " Row(writing score=74, ((math score >= 90) AND (math score <= 100))=False),\n",
       " Row(writing score=80, ((math score >= 90) AND (math score <= 100))=True),\n",
       " Row(writing score=70, ((math score >= 90) AND (math score <= 100))=False),\n",
       " Row(writing score=59, ((math score >= 90) AND (math score <= 100))=False),\n",
       " Row(writing score=88, ((math score >= 90) AND (math score <= 100))=False),\n",
       " Row(writing score=42, ((math score >= 90) AND (math score <= 100))=False),\n",
       " Row(writing score=41, ((math score >= 90) AND (math score <= 100))=False),\n",
       " Row(writing score=71, ((math score >= 90) AND (math score <= 100))=False),\n",
       " Row(writing score=77, ((math score >= 90) AND (math score <= 100))=False),\n",
       " Row(writing score=57, ((math score >= 90) AND (math score <= 100))=False),\n",
       " Row(writing score=84, ((math score >= 90) AND (math score <= 100))=False),\n",
       " Row(writing score=37, ((math score >= 90) AND (math score <= 100))=False),\n",
       " Row(writing score=80, ((math score >= 90) AND (math score <= 100))=False),\n",
       " Row(writing score=43, ((math score >= 90) AND (math score <= 100))=False),\n",
       " Row(writing score=94, ((math score >= 90) AND (math score <= 100))=False),\n",
       " Row(writing score=44, ((math score >= 90) AND (math score <= 100))=False),\n",
       " Row(writing score=57, ((math score >= 90) AND (math score <= 100))=False),\n",
       " Row(writing score=59, ((math score >= 90) AND (math score <= 100))=False),\n",
       " Row(writing score=84, ((math score >= 90) AND (math score <= 100))=True),\n",
       " Row(writing score=73, ((math score >= 90) AND (math score <= 100))=False),\n",
       " Row(writing score=73, ((math score >= 90) AND (math score <= 100))=False),\n",
       " Row(writing score=55, ((math score >= 90) AND (math score <= 100))=False),\n",
       " Row(writing score=72, ((math score >= 90) AND (math score <= 100))=False),\n",
       " Row(writing score=56, ((math score >= 90) AND (math score <= 100))=False),\n",
       " Row(writing score=82, ((math score >= 90) AND (math score <= 100))=False),\n",
       " Row(writing score=72, ((math score >= 90) AND (math score <= 100))=False),\n",
       " Row(writing score=47, ((math score >= 90) AND (math score <= 100))=False),\n",
       " Row(writing score=74, ((math score >= 90) AND (math score <= 100))=False),\n",
       " Row(writing score=71, ((math score >= 90) AND (math score <= 100))=False),\n",
       " Row(writing score=68, ((math score >= 90) AND (math score <= 100))=False),\n",
       " Row(writing score=59, ((math score >= 90) AND (math score <= 100))=False),\n",
       " Row(writing score=86, ((math score >= 90) AND (math score <= 100))=False),\n",
       " Row(writing score=68, ((math score >= 90) AND (math score <= 100))=False),\n",
       " Row(writing score=65, ((math score >= 90) AND (math score <= 100))=False),\n",
       " Row(writing score=75, ((math score >= 90) AND (math score <= 100))=False),\n",
       " Row(writing score=85, ((math score >= 90) AND (math score <= 100))=False),\n",
       " Row(writing score=53, ((math score >= 90) AND (math score <= 100))=False),\n",
       " Row(writing score=92, ((math score >= 90) AND (math score <= 100))=False),\n",
       " Row(writing score=52, ((math score >= 90) AND (math score <= 100))=False),\n",
       " Row(writing score=72, ((math score >= 90) AND (math score <= 100))=False),\n",
       " Row(writing score=65, ((math score >= 90) AND (math score <= 100))=False),\n",
       " Row(writing score=77, ((math score >= 90) AND (math score <= 100))=False),\n",
       " Row(writing score=64, ((math score >= 90) AND (math score <= 100))=False),\n",
       " Row(writing score=54, ((math score >= 90) AND (math score <= 100))=False),\n",
       " Row(writing score=86, ((math score >= 90) AND (math score <= 100))=False),\n",
       " Row(writing score=63, ((math score >= 90) AND (math score <= 100))=False),\n",
       " Row(writing score=59, ((math score >= 90) AND (math score <= 100))=False),\n",
       " Row(writing score=72, ((math score >= 90) AND (math score <= 100))=False),\n",
       " Row(writing score=77, ((math score >= 90) AND (math score <= 100))=False),\n",
       " Row(writing score=60, ((math score >= 90) AND (math score <= 100))=False),\n",
       " Row(writing score=75, ((math score >= 90) AND (math score <= 100))=False),\n",
       " Row(writing score=57, ((math score >= 90) AND (math score <= 100))=False),\n",
       " Row(writing score=49, ((math score >= 90) AND (math score <= 100))=False),\n",
       " Row(writing score=74, ((math score >= 90) AND (math score <= 100))=False),\n",
       " Row(writing score=72, ((math score >= 90) AND (math score <= 100))=False),\n",
       " Row(writing score=79, ((math score >= 90) AND (math score <= 100))=False),\n",
       " Row(writing score=60, ((math score >= 90) AND (math score <= 100))=False),\n",
       " Row(writing score=55, ((math score >= 90) AND (math score <= 100))=False),\n",
       " Row(writing score=70, ((math score >= 90) AND (math score <= 100))=False),\n",
       " Row(writing score=43, ((math score >= 90) AND (math score <= 100))=False),\n",
       " Row(writing score=82, ((math score >= 90) AND (math score <= 100))=False),\n",
       " Row(writing score=82, ((math score >= 90) AND (math score <= 100))=True),\n",
       " Row(writing score=57, ((math score >= 90) AND (math score <= 100))=False),\n",
       " Row(writing score=84, ((math score >= 90) AND (math score <= 100))=False),\n",
       " Row(writing score=82, ((math score >= 90) AND (math score <= 100))=False),\n",
       " Row(writing score=62, ((math score >= 90) AND (math score <= 100))=False),\n",
       " Row(writing score=79, ((math score >= 90) AND (math score <= 100))=True),\n",
       " Row(writing score=44, ((math score >= 90) AND (math score <= 100))=False),\n",
       " Row(writing score=77, ((math score >= 90) AND (math score <= 100))=False),\n",
       " Row(writing score=32, ((math score >= 90) AND (math score <= 100))=False),\n",
       " Row(writing score=61, ((math score >= 90) AND (math score <= 100))=False),\n",
       " Row(writing score=61, ((math score >= 90) AND (math score <= 100))=False),\n",
       " Row(writing score=60, ((math score >= 90) AND (math score <= 100))=False),\n",
       " Row(writing score=70, ((math score >= 90) AND (math score <= 100))=False),\n",
       " Row(writing score=69, ((math score >= 90) AND (math score <= 100))=False),\n",
       " Row(writing score=77, ((math score >= 90) AND (math score <= 100))=False),\n",
       " Row(writing score=51, ((math score >= 90) AND (math score <= 100))=False),\n",
       " Row(writing score=73, ((math score >= 90) AND (math score <= 100))=False),\n",
       " Row(writing score=70, ((math score >= 90) AND (math score <= 100))=False),\n",
       " Row(writing score=81, ((math score >= 90) AND (math score <= 100))=False),\n",
       " Row(writing score=54, ((math score >= 90) AND (math score <= 100))=False),\n",
       " Row(writing score=57, ((math score >= 90) AND (math score <= 100))=False),\n",
       " Row(writing score=68, ((math score >= 90) AND (math score <= 100))=False),\n",
       " Row(writing score=73, ((math score >= 90) AND (math score <= 100))=False),\n",
       " Row(writing score=95, ((math score >= 90) AND (math score <= 100))=False),\n",
       " Row(writing score=87, ((math score >= 90) AND (math score <= 100))=False),\n",
       " Row(writing score=78, ((math score >= 90) AND (math score <= 100))=False),\n",
       " Row(writing score=74, ((math score >= 90) AND (math score <= 100))=False),\n",
       " Row(writing score=75, ((math score >= 90) AND (math score <= 100))=False),\n",
       " Row(writing score=40, ((math score >= 90) AND (math score <= 100))=False),\n",
       " Row(writing score=69, ((math score >= 90) AND (math score <= 100))=True),\n",
       " Row(writing score=51, ((math score >= 90) AND (math score <= 100))=False),\n",
       " Row(writing score=36, ((math score >= 90) AND (math score <= 100))=False),\n",
       " Row(writing score=49, ((math score >= 90) AND (math score <= 100))=False),\n",
       " Row(writing score=67, ((math score >= 90) AND (math score <= 100))=False),\n",
       " Row(writing score=76, ((math score >= 90) AND (math score <= 100))=False),\n",
       " Row(writing score=83, ((math score >= 90) AND (math score <= 100))=False),\n",
       " Row(writing score=87, ((math score >= 90) AND (math score <= 100))=True),\n",
       " Row(writing score=64, ((math score >= 90) AND (math score <= 100))=False),\n",
       " Row(writing score=76, ((math score >= 90) AND (math score <= 100))=False),\n",
       " Row(writing score=68, ((math score >= 90) AND (math score <= 100))=False),\n",
       " Row(writing score=88, ((math score >= 90) AND (math score <= 100))=False),\n",
       " Row(writing score=92, ((math score >= 90) AND (math score <= 100))=False),\n",
       " Row(writing score=93, ((math score >= 90) AND (math score <= 100))=False),\n",
       " Row(writing score=51, ((math score >= 90) AND (math score <= 100))=False),\n",
       " Row(writing score=82, ((math score >= 90) AND (math score <= 100))=False),\n",
       " Row(writing score=52, ((math score >= 90) AND (math score <= 100))=False),\n",
       " Row(writing score=58, ((math score >= 90) AND (math score <= 100))=False),\n",
       " Row(writing score=70, ((math score >= 90) AND (math score <= 100))=False),\n",
       " Row(writing score=76, ((math score >= 90) AND (math score <= 100))=False),\n",
       " Row(writing score=81, ((math score >= 90) AND (math score <= 100))=False),\n",
       " Row(writing score=53, ((math score >= 90) AND (math score <= 100))=False),\n",
       " Row(writing score=57, ((math score >= 90) AND (math score <= 100))=False),\n",
       " Row(writing score=89, ((math score >= 90) AND (math score <= 100))=False),\n",
       " Row(writing score=58, ((math score >= 90) AND (math score <= 100))=False),\n",
       " Row(writing score=89, ((math score >= 90) AND (math score <= 100))=False),\n",
       " Row(writing score=45, ((math score >= 90) AND (math score <= 100))=False),\n",
       " Row(writing score=74, ((math score >= 90) AND (math score <= 100))=False),\n",
       " Row(writing score=57, ((math score >= 90) AND (math score <= 100))=False),\n",
       " Row(writing score=79, ((math score >= 90) AND (math score <= 100))=False),\n",
       " Row(writing score=53, ((math score >= 90) AND (math score <= 100))=False),\n",
       " Row(writing score=73, ((math score >= 90) AND (math score <= 100))=False),\n",
       " Row(writing score=46, ((math score >= 90) AND (math score <= 100))=False),\n",
       " Row(writing score=51, ((math score >= 90) AND (math score <= 100))=False),\n",
       " Row(writing score=36, ((math score >= 90) AND (math score <= 100))=False),\n",
       " Row(writing score=76, ((math score >= 90) AND (math score <= 100))=False),\n",
       " Row(writing score=64, ((math score >= 90) AND (math score <= 100))=False),\n",
       " Row(writing score=84, ((math score >= 90) AND (math score <= 100))=True),\n",
       " Row(writing score=85, ((math score >= 90) AND (math score <= 100))=True),\n",
       " Row(writing score=50, ((math score >= 90) AND (math score <= 100))=False),\n",
       " Row(writing score=68, ((math score >= 90) AND (math score <= 100))=False),\n",
       " Row(writing score=69, ((math score >= 90) AND (math score <= 100))=False),\n",
       " Row(writing score=67, ((math score >= 90) AND (math score <= 100))=False),\n",
       " Row(writing score=63, ((math score >= 90) AND (math score <= 100))=False),\n",
       " Row(writing score=93, ((math score >= 90) AND (math score <= 100))=False),\n",
       " Row(writing score=61, ((math score >= 90) AND (math score <= 100))=False),\n",
       " Row(writing score=55, ((math score >= 90) AND (math score <= 100))=False),\n",
       " Row(writing score=96, ((math score >= 90) AND (math score <= 100))=True),\n",
       " Row(writing score=65, ((math score >= 90) AND (math score <= 100))=False),\n",
       " Row(writing score=81, ((math score >= 90) AND (math score <= 100))=False),\n",
       " Row(writing score=46, ((math score >= 90) AND (math score <= 100))=False),\n",
       " Row(writing score=72, ((math score >= 90) AND (math score <= 100))=False),\n",
       " Row(writing score=53, ((math score >= 90) AND (math score <= 100))=False),\n",
       " Row(writing score=87, ((math score >= 90) AND (math score <= 100))=False),\n",
       " Row(writing score=38, ((math score >= 90) AND (math score <= 100))=False),\n",
       " Row(writing score=80, ((math score >= 90) AND (math score <= 100))=False),\n",
       " Row(writing score=91, ((math score >= 90) AND (math score <= 100))=True),\n",
       " Row(writing score=88, ((math score >= 90) AND (math score <= 100))=False),\n",
       " Row(writing score=52, ((math score >= 90) AND (math score <= 100))=False),\n",
       " Row(writing score=41, ((math score >= 90) AND (math score <= 100))=False),\n",
       " Row(writing score=72, ((math score >= 90) AND (math score <= 100))=False),\n",
       " Row(writing score=51, ((math score >= 90) AND (math score <= 100))=False),\n",
       " Row(writing score=47, ((math score >= 90) AND (math score <= 100))=False),\n",
       " Row(writing score=76, ((math score >= 90) AND (math score <= 100))=False),\n",
       " Row(writing score=78, ((math score >= 90) AND (math score <= 100))=False),\n",
       " Row(writing score=82, ((math score >= 90) AND (math score <= 100))=True),\n",
       " Row(writing score=61, ((math score >= 90) AND (math score <= 100))=False),\n",
       " Row(writing score=66, ((math score >= 90) AND (math score <= 100))=False),\n",
       " Row(writing score=84, ((math score >= 90) AND (math score <= 100))=False),\n",
       " Row(writing score=54, ((math score >= 90) AND (math score <= 100))=False),\n",
       " Row(writing score=80, ((math score >= 90) AND (math score <= 100))=False),\n",
       " Row(writing score=74, ((math score >= 90) AND (math score <= 100))=False),\n",
       " Row(writing score=66, ((math score >= 90) AND (math score <= 100))=False),\n",
       " Row(writing score=70, ((math score >= 90) AND (math score <= 100))=False),\n",
       " Row(writing score=71, ((math score >= 90) AND (math score <= 100))=False),\n",
       " Row(writing score=44, ((math score >= 90) AND (math score <= 100))=False),\n",
       " Row(writing score=54, ((math score >= 90) AND (math score <= 100))=False),\n",
       " Row(writing score=80, ((math score >= 90) AND (math score <= 100))=False),\n",
       " Row(writing score=95, ((math score >= 90) AND (math score <= 100))=True),\n",
       " Row(writing score=59, ((math score >= 90) AND (math score <= 100))=False),\n",
       " Row(writing score=74, ((math score >= 90) AND (math score <= 100))=False),\n",
       " Row(writing score=48, ((math score >= 90) AND (math score <= 100))=False),\n",
       " Row(writing score=91, ((math score >= 90) AND (math score <= 100))=False),\n",
       " Row(writing score=85, ((math score >= 90) AND (math score <= 100))=False),\n",
       " Row(writing score=73, ((math score >= 90) AND (math score <= 100))=False),\n",
       " Row(writing score=75, ((math score >= 90) AND (math score <= 100))=False),\n",
       " Row(writing score=69, ((math score >= 90) AND (math score <= 100))=False),\n",
       " Row(writing score=38, ((math score >= 90) AND (math score <= 100))=False),\n",
       " Row(writing score=27, ((math score >= 90) AND (math score <= 100))=False),\n",
       " Row(writing score=79, ((math score >= 90) AND (math score <= 100))=False),\n",
       " Row(writing score=63, ((math score >= 90) AND (math score <= 100))=False),\n",
       " Row(writing score=82, ((math score >= 90) AND (math score <= 100))=False),\n",
       " Row(writing score=89, ((math score >= 90) AND (math score <= 100))=False),\n",
       " Row(writing score=74, ((math score >= 90) AND (math score <= 100))=False),\n",
       " Row(writing score=41, ((math score >= 90) AND (math score <= 100))=False),\n",
       " Row(writing score=100, ((math score >= 90) AND (math score <= 100))=True),\n",
       " Row(writing score=84, ((math score >= 90) AND (math score <= 100))=False),\n",
       " Row(writing score=77, ((math score >= 90) AND (math score <= 100))=False),\n",
       " Row(writing score=51, ((math score >= 90) AND (math score <= 100))=False),\n",
       " Row(writing score=91, ((math score >= 90) AND (math score <= 100))=False),\n",
       " Row(writing score=72, ((math score >= 90) AND (math score <= 100))=False),\n",
       " Row(writing score=70, ((math score >= 90) AND (math score <= 100))=False),\n",
       " Row(writing score=48, ((math score >= 90) AND (math score <= 100))=False),\n",
       " Row(writing score=82, ((math score >= 90) AND (math score <= 100))=False),\n",
       " Row(writing score=66, ((math score >= 90) AND (math score <= 100))=False),\n",
       " Row(writing score=66, ((math score >= 90) AND (math score <= 100))=False),\n",
       " Row(writing score=55, ((math score >= 90) AND (math score <= 100))=False),\n",
       " Row(writing score=66, ((math score >= 90) AND (math score <= 100))=False),\n",
       " Row(writing score=100, ((math score >= 90) AND (math score <= 100))=True),\n",
       " Row(writing score=52, ((math score >= 90) AND (math score <= 100))=False),\n",
       " Row(writing score=80, ((math score >= 90) AND (math score <= 100))=False),\n",
       " Row(writing score=91, ((math score >= 90) AND (math score <= 100))=True),\n",
       " Row(writing score=67, ((math score >= 90) AND (math score <= 100))=False),\n",
       " Row(writing score=46, ((math score >= 90) AND (math score <= 100))=False),\n",
       " Row(writing score=66, ((math score >= 90) AND (math score <= 100))=False),\n",
       " Row(writing score=65, ((math score >= 90) AND (math score <= 100))=False),\n",
       " Row(writing score=69, ((math score >= 90) AND (math score <= 100))=False),\n",
       " Row(writing score=60, ((math score >= 90) AND (math score <= 100))=False),\n",
       " Row(writing score=52, ((math score >= 90) AND (math score <= 100))=False),\n",
       " Row(writing score=71, ((math score >= 90) AND (math score <= 100))=False),\n",
       " Row(writing score=44, ((math score >= 90) AND (math score <= 100))=False),\n",
       " Row(writing score=51, ((math score >= 90) AND (math score <= 100))=False),\n",
       " Row(writing score=70, ((math score >= 90) AND (math score <= 100))=False),\n",
       " Row(writing score=62, ((math score >= 90) AND (math score <= 100))=False),\n",
       " Row(writing score=73, ((math score >= 90) AND (math score <= 100))=False),\n",
       " Row(writing score=74, ((math score >= 90) AND (math score <= 100))=False),\n",
       " Row(writing score=90, ((math score >= 90) AND (math score <= 100))=True),\n",
       " Row(writing score=58, ((math score >= 90) AND (math score <= 100))=False),\n",
       " Row(writing score=53, ((math score >= 90) AND (math score <= 100))=False),\n",
       " Row(writing score=57, ((math score >= 90) AND (math score <= 100))=False),\n",
       " Row(writing score=85, ((math score >= 90) AND (math score <= 100))=False),\n",
       " Row(writing score=69, ((math score >= 90) AND (math score <= 100))=False),\n",
       " Row(writing score=72, ((math score >= 90) AND (math score <= 100))=False),\n",
       " Row(writing score=96, ((math score >= 90) AND (math score <= 100))=False),\n",
       " Row(writing score=64, ((math score >= 90) AND (math score <= 100))=False),\n",
       " Row(writing score=61, ((math score >= 90) AND (math score <= 100))=False),\n",
       " Row(writing score=61, ((math score >= 90) AND (math score <= 100))=False),\n",
       " Row(writing score=58, ((math score >= 90) AND (math score <= 100))=False),\n",
       " Row(writing score=80, ((math score >= 90) AND (math score <= 100))=False),\n",
       " Row(writing score=60, ((math score >= 90) AND (math score <= 100))=False),\n",
       " Row(writing score=52, ((math score >= 90) AND (math score <= 100))=False),\n",
       " Row(writing score=73, ((math score >= 90) AND (math score <= 100))=False),\n",
       " Row(writing score=71, ((math score >= 90) AND (math score <= 100))=True),\n",
       " Row(writing score=83, ((math score >= 90) AND (math score <= 100))=False),\n",
       " Row(writing score=72, ((math score >= 90) AND (math score <= 100))=False),\n",
       " Row(writing score=54, ((math score >= 90) AND (math score <= 100))=False),\n",
       " Row(writing score=69, ((math score >= 90) AND (math score <= 100))=False),\n",
       " Row(writing score=62, ((math score >= 90) AND (math score <= 100))=False),\n",
       " Row(writing score=81, ((math score >= 90) AND (math score <= 100))=False),\n",
       " Row(writing score=100, ((math score >= 90) AND (math score <= 100))=True),\n",
       " Row(writing score=59, ((math score >= 90) AND (math score <= 100))=False),\n",
       " Row(writing score=71, ((math score >= 90) AND (math score <= 100))=False),\n",
       " Row(writing score=64, ((math score >= 90) AND (math score <= 100))=False),\n",
       " Row(writing score=53, ((math score >= 90) AND (math score <= 100))=False),\n",
       " Row(writing score=100, ((math score >= 90) AND (math score <= 100))=True),\n",
       " Row(writing score=75, ((math score >= 90) AND (math score <= 100))=False),\n",
       " Row(writing score=58, ((math score >= 90) AND (math score <= 100))=False),\n",
       " Row(writing score=72, ((math score >= 90) AND (math score <= 100))=False),\n",
       " Row(writing score=64, ((math score >= 90) AND (math score <= 100))=False),\n",
       " Row(writing score=60, ((math score >= 90) AND (math score <= 100))=False),\n",
       " Row(writing score=67, ((math score >= 90) AND (math score <= 100))=False),\n",
       " Row(writing score=80, ((math score >= 90) AND (math score <= 100))=False),\n",
       " Row(writing score=100, ((math score >= 90) AND (math score <= 100))=False),\n",
       " Row(writing score=69, ((math score >= 90) AND (math score <= 100))=False),\n",
       " Row(writing score=60, ((math score >= 90) AND (math score <= 100))=False),\n",
       " Row(writing score=61, ((math score >= 90) AND (math score <= 100))=False),\n",
       " Row(writing score=67, ((math score >= 90) AND (math score <= 100))=False),\n",
       " Row(writing score=77, ((math score >= 90) AND (math score <= 100))=False),\n",
       " Row(writing score=60, ((math score >= 90) AND (math score <= 100))=False),\n",
       " Row(writing score=58, ((math score >= 90) AND (math score <= 100))=False),\n",
       " Row(writing score=48, ((math score >= 90) AND (math score <= 100))=False),\n",
       " Row(writing score=94, ((math score >= 90) AND (math score <= 100))=True),\n",
       " Row(writing score=23, ((math score >= 90) AND (math score <= 100))=False),\n",
       " Row(writing score=78, ((math score >= 90) AND (math score <= 100))=False),\n",
       " Row(writing score=86, ((math score >= 90) AND (math score <= 100))=False),\n",
       " Row(writing score=91, ((math score >= 90) AND (math score <= 100))=False),\n",
       " Row(writing score=82, ((math score >= 90) AND (math score <= 100))=False),\n",
       " Row(writing score=54, ((math score >= 90) AND (math score <= 100))=False),\n",
       " Row(writing score=51, ((math score >= 90) AND (math score <= 100))=False),\n",
       " Row(writing score=76, ((math score >= 90) AND (math score <= 100))=False),\n",
       " Row(writing score=45, ((math score >= 90) AND (math score <= 100))=False),\n",
       " Row(writing score=83, ((math score >= 90) AND (math score <= 100))=False),\n",
       " Row(writing score=75, ((math score >= 90) AND (math score <= 100))=False),\n",
       " Row(writing score=78, ((math score >= 90) AND (math score <= 100))=False),\n",
       " Row(writing score=76, ((math score >= 90) AND (math score <= 100))=False),\n",
       " Row(writing score=74, ((math score >= 90) AND (math score <= 100))=False),\n",
       " Row(writing score=62, ((math score >= 90) AND (math score <= 100))=False),\n",
       " Row(writing score=95, ((math score >= 90) AND (math score <= 100))=False),\n",
       " Row(writing score=55, ((math score >= 90) AND (math score <= 100))=False),\n",
       " Row(writing score=65, ((math score >= 90) AND (math score <= 100))=False),\n",
       " Row(writing score=77, ((math score >= 90) AND (math score <= 100))=False),\n",
       " Row(writing score=86, ((math score >= 90) AND (math score <= 100))=False)]"
      ]
     },
     "execution_count": 35,
     "metadata": {},
     "output_type": "execute_result"
    }
   ],
   "source": [
    "df.select(df[\"writing score\"], df[\"math score\"].between(90, 100)).collect()"
   ]
  },
  {
   "cell_type": "markdown",
   "metadata": {},
   "source": [
    "### 2) Computación Crosstab.\n",
    "\n",
    "En alguna ocasión, puede ser interesante ver las estadísticas descriptivas entre dos columnas por pares. \n",
    "\n",
    "Por ejemplo, puede contar el número de estudiantes de acuerdo al género (columna \"**gender**\" y el tipo de almuerzo que tenía (columna \"**lunch**\". Esta operación se llama **tabla de referencias cruzadas**."
   ]
  },
  {
   "cell_type": "code",
   "execution_count": 36,
   "metadata": {},
   "outputs": [
    {
     "name": "stdout",
     "output_type": "stream",
     "text": [
      "+------------+------------+--------+\n",
      "|gender_lunch|free/reduced|standard|\n",
      "+------------+------------+--------+\n",
      "|        male|         166|     316|\n",
      "|      female|         189|     329|\n",
      "+------------+------------+--------+\n",
      "\n"
     ]
    }
   ],
   "source": [
    "df.crosstab(\"gender\", \"lunch\").show()"
   ]
  },
  {
   "cell_type": "markdown",
   "metadata": {},
   "source": [
    "### 3) Descripción de Datos.\n",
    "\n",
    "Para obtener un resumen estadístico de las columnas (features) con datos numéricos, se puede usar el método **describe ()**. \n",
    "\n",
    "Se calculará con este método: \n",
    "\n",
    "- cuenta \n",
    "\n",
    "- media \n",
    "\n",
    "- desviación estándar \n",
    "\n",
    "- min \n",
    "\n",
    "- max\n",
    "\n",
    "\n",
    "Es muy similar al método **summary ()**."
   ]
  },
  {
   "cell_type": "code",
   "execution_count": 37,
   "metadata": {},
   "outputs": [
    {
     "name": "stdout",
     "output_type": "stream",
     "text": [
      "+-------+------+--------------+---------------------------+-----+-----------------------+------------------+------------------+-----------------+\n",
      "|summary|gender|race/ethnicity|parental level of education|lunch|test preparation course|        math score|     reading score|    writing score|\n",
      "+-------+------+--------------+---------------------------+-----+-----------------------+------------------+------------------+-----------------+\n",
      "|  count|  1000|          1000|                       1000| 1000|                   1000|              1000|              1000|             1000|\n",
      "|   mean|  null|          null|                       null| null|                   null|            66.089|            69.169|           68.054|\n",
      "| stddev|  null|          null|                       null| null|                   null|15.163080096009454|14.600191937252223|15.19565701086966|\n",
      "+-------+------+--------------+---------------------------+-----+-----------------------+------------------+------------------+-----------------+\n",
      "only showing top 3 rows\n",
      "\n"
     ]
    }
   ],
   "source": [
    "df.describe().show(3)"
   ]
  },
  {
   "cell_type": "markdown",
   "metadata": {},
   "source": [
    "### 4) Aplicarle una transformación matemática a una columna con datos numéricos (Preprocesamiento de Datos).\n",
    "\n",
    "El procesamiento de datos es un paso crítico en el aprendizaje automático. Después de eliminar los datos basura, obtienes algunas ideas importantes. Por ejemplo, usted sabe que la edad no es una función lineal con el ingreso. Cuando las personas son jóvenes, sus ingresos suelen ser inferiores a los de mediana edad. Después de la jubilación, un hogar utiliza su ahorro, lo que significa una disminución en los ingresos. Para capturar este patrón, puedes agregar una transformación a los datos de una columna (feature).\n",
    "\n",
    "Para el dataset empleado, una transformación posible es el incremento en 10 puntos de la nota obtenida en la materia de matemáticas, debido a que se aprobó un reclamo en el examen planteado, lo que obliga a subir en 10 puntos la nota de todos los estudiantes (a manera de ejemplo, sumarle 10 a la columna \"**math score**\").\n",
    "\n",
    "Para agregar una transformación a una columna, se debe:\n",
    "\n",
    "   -  **Seleccionar la columna**\n",
    "   -  **Aplicar la transformación a esa columna y agregarla al DataFrame (o sustituir la columna en el DataFrame)**"
   ]
  },
  {
   "cell_type": "code",
   "execution_count": 38,
   "metadata": {},
   "outputs": [
    {
     "name": "stdout",
     "output_type": "stream",
     "text": [
      "Agregar la transformación en una nueva columna (math_score_sum): \n",
      "+--------------+\n",
      "|math_score_sum|\n",
      "+--------------+\n",
      "|            82|\n",
      "|            79|\n",
      "|           100|\n",
      "+--------------+\n",
      "only showing top 3 rows\n",
      "\n",
      " \n",
      "Agregar la transformación a la columna: \n",
      "+----------+\n",
      "|math score|\n",
      "+----------+\n",
      "|        82|\n",
      "|        79|\n",
      "|       100|\n",
      "+----------+\n",
      "only showing top 3 rows\n",
      "\n",
      " \n",
      "Valores Iniciales de la columna 'math score': \n",
      "+----------+\n",
      "|math score|\n",
      "+----------+\n",
      "|        72|\n",
      "|        69|\n",
      "|        90|\n",
      "+----------+\n",
      "only showing top 3 rows\n",
      "\n"
     ]
    }
   ],
   "source": [
    "from pyspark.sql.functions import *\n",
    "\n",
    "# 1 Seleccionar la columna\n",
    "math_score_sum = df.select(col(\"math score\"))\n",
    "\n",
    "# 2 Aplicar la transformación y agregarla al DataFrame\n",
    "#df1 = df.withColumn(\"Avg_Salary_sum\", col(\"Avg_Salary\")+10)\n",
    "print(\"Agregar la transformación en una nueva columna (math_score_sum): \")\n",
    "df.withColumn(\"math_score_sum\", col(\"math score\")+10).select(\"math_score_sum\").show(3)\n",
    "print(\" \")\n",
    "print(\"Agregar la transformación a la columna: \")\n",
    "df.withColumn(\"math score\", col(\"math score\")+10).select(\"math score\").show(3)\n",
    "print(\" \")\n",
    "print(\"Valores Iniciales de la columna 'math score': \")\n",
    "df.select(\"math score\").show(3)"
   ]
  },
  {
   "cell_type": "markdown",
   "metadata": {},
   "source": [
    "### 5) Aplicarle una transformación a una columna con datos string (One Hot Encoder, Preprocesamiento de Datos).\n",
    "\n",
    "Por ejemplo, una transformación universal en el aprendizaje automático consiste en convertir un dato string en un One Hot Encoder (codificador activo), es decir, una columna por grupo. Un One Hot Encoder (codificador activo) suele ser una matriz llena de ceros.\n",
    "\n",
    "Los pasos para transformar los datos son muy similares a scikit-learn. Se necesita:\n",
    "\n",
    "  - Indexar el string a numérico\n",
    "  - Crear el One Hot encoder (codificador activo)\n",
    "  - Transformar los datos\n",
    "\n",
    "Dos API hacen el trabajo: StringIndexer, OneHotEncoder.\n",
    "\n",
    "  1. En primer lugar, se selecciona la columna string a indexar. **InputCol** es el nombre de la columna en el conjunto de datos. **outputCol** es el nuevo nombre dado a la columna transformada."
   ]
  },
  {
   "cell_type": "code",
   "execution_count": 39,
   "metadata": {},
   "outputs": [],
   "source": [
    "from pyspark.ml.feature import StringIndexer, OneHotEncoder, VectorAssembler\n",
    "\n",
    "stringIndexer = StringIndexer(inputCol=\"gender\", outputCol=\"gender_encoded\")"
   ]
  },
  {
   "cell_type": "markdown",
   "metadata": {},
   "source": [
    "2. Ajustar los datos y transformarlos."
   ]
  },
  {
   "cell_type": "code",
   "execution_count": 40,
   "metadata": {},
   "outputs": [],
   "source": [
    "model = stringIndexer.fit(df)\n",
    "indexed = model.transform(df)"
   ]
  },
  {
   "cell_type": "markdown",
   "metadata": {},
   "source": [
    "3. Crear las nuevas columnas basadas en el grupo. Por ejemplo, si hay 10 grupos en la feature (columna), la nueva matriz tendrá 10 columnas, una para cada grupo."
   ]
  },
  {
   "cell_type": "code",
   "execution_count": 41,
   "metadata": {},
   "outputs": [],
   "source": [
    "encoder = OneHotEncoder(dropLast=False, inputCol=\"gender_encoded\", outputCol=\"gender_vec\")"
   ]
  },
  {
   "cell_type": "markdown",
   "metadata": {},
   "source": [
    "Por último, se aplica la transformación efectuada."
   ]
  },
  {
   "cell_type": "code",
   "execution_count": 42,
   "metadata": {},
   "outputs": [
    {
     "name": "stdout",
     "output_type": "stream",
     "text": [
      "+------+--------------+---------------------------+--------+-----------------------+----------+-------------+-------------+--------------+-------------+\n",
      "|gender|race/ethnicity|parental level of education|   lunch|test preparation course|math score|reading score|writing score|gender_encoded|   gender_vec|\n",
      "+------+--------------+---------------------------+--------+-----------------------+----------+-------------+-------------+--------------+-------------+\n",
      "|female|       group B|          bachelor's degree|standard|                   none|        72|           72|           74|           0.0|(2,[0],[1.0])|\n",
      "|female|       group C|               some college|standard|              completed|        69|           90|           88|           0.0|(2,[0],[1.0])|\n",
      "+------+--------------+---------------------------+--------+-----------------------+----------+-------------+-------------+--------------+-------------+\n",
      "only showing top 2 rows\n",
      "\n"
     ]
    }
   ],
   "source": [
    "encoded = encoder.transform(indexed)\n",
    "encoded.show(2)"
   ]
  },
  {
   "cell_type": "code",
   "execution_count": 43,
   "metadata": {},
   "outputs": [
    {
     "name": "stdout",
     "output_type": "stream",
     "text": [
      "+------+--------------+-------------+\n",
      "|gender|gender_encoded|   gender_vec|\n",
      "+------+--------------+-------------+\n",
      "|female|           0.0|(2,[0],[1.0])|\n",
      "|female|           0.0|(2,[0],[1.0])|\n",
      "|female|           0.0|(2,[0],[1.0])|\n",
      "|  male|           1.0|(2,[1],[1.0])|\n",
      "|  male|           1.0|(2,[1],[1.0])|\n",
      "+------+--------------+-------------+\n",
      "only showing top 5 rows\n",
      "\n"
     ]
    }
   ],
   "source": [
    "encoded.select(\"gender\", \"gender_encoded\", \"gender_vec\").show(5)"
   ]
  },
  {
   "cell_type": "code",
   "execution_count": null,
   "metadata": {},
   "outputs": [],
   "source": []
  }
 ],
 "metadata": {
  "kernelspec": {
   "display_name": "Python 3",
   "language": "python",
   "name": "python3"
  },
  "language_info": {
   "codemirror_mode": {
    "name": "ipython",
    "version": 3
   },
   "file_extension": ".py",
   "mimetype": "text/x-python",
   "name": "python",
   "nbconvert_exporter": "python",
   "pygments_lexer": "ipython3",
   "version": "3.7.3"
  }
 },
 "nbformat": 4,
 "nbformat_minor": 2
}
